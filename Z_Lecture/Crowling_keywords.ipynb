{
 "cells": [
  {
   "cell_type": "code",
   "execution_count": 1,
   "metadata": {},
   "outputs": [],
   "source": [
    "import requests"
   ]
  },
  {
   "cell_type": "code",
   "execution_count": 2,
   "metadata": {},
   "outputs": [],
   "source": [
    "from bs4 import BeautifulSoup"
   ]
  },
  {
   "cell_type": "code",
   "execution_count": 3,
   "metadata": {},
   "outputs": [],
   "source": [
    "url = 'https://search.naver.com/search.naver'\n",
    "params = {\n",
    "    'query' : '펭수'\n",
    "}"
   ]
  },
  {
   "cell_type": "code",
   "execution_count": 4,
   "metadata": {},
   "outputs": [],
   "source": [
    "resp = requests.get(url,params=params)"
   ]
  },
  {
   "cell_type": "code",
   "execution_count": 7,
   "metadata": {},
   "outputs": [],
   "source": [
    "soup = BeautifulSoup(resp.content)"
   ]
  },
  {
   "cell_type": "code",
   "execution_count": 9,
   "metadata": {},
   "outputs": [],
   "source": [
    "dl_tag = soup.find('dl',class_='relate_area')"
   ]
  },
  {
   "cell_type": "code",
   "execution_count": 10,
   "metadata": {},
   "outputs": [
    {
     "data": {
      "text/plain": [
       "<dl class=\"relate_area _related_keyword_area\"> <dt><span class=\"tit_relate _related_keyword_lis\">연관검색어</span><a class=\"link_help\" href=\"https://help.naver.com/support/alias/search/word/word_1.naver\" onclick=\"return goOtherCR(this, 'a=rsk_top.guide&amp;r=&amp;i=&amp;u='+urlencode(urlexpand(this.href)));\" target=\"_blank\"><i class=\"sprenew api_ico_help\">도움말</i></a></dt> <dd class=\"lst_relate _related_keyword_list\" style=\"display: block;\"> <ul class=\"_related_keyword_ul\"> <li> <a data-area=\"*q\" data-idx=\"1\" href=\"?where=nexearch&amp;query=%ED%8E%AD%EC%88%98+%EA%B9%80%EB%8F%99%EC%A4%80&amp;ie=utf8&amp;sm=tab_she&amp;qdt=0\">펭수 김동준</a> </li> <li> <a data-area=\"*q\" data-idx=\"2\" href=\"?where=nexearch&amp;query=%ED%8E%AD%EC%88%98+%EC%A0%95%EC%B2%B4&amp;ie=utf8&amp;sm=tab_she&amp;qdt=0\">펭수 정체</a> </li> <li> <a data-area=\"*q\" data-idx=\"3\" href=\"?where=nexearch&amp;query=%ED%8E%AD%EC%88%98+%EA%B5%BF%EC%A6%88&amp;ie=utf8&amp;sm=tab_she&amp;qdt=0\">펭수 굿즈</a> </li> <li> <a data-area=\"*q\" data-idx=\"4\" href=\"?where=nexearch&amp;query=%EA%B9%80%EB%8F%99%EC%A4%80&amp;ie=utf8&amp;sm=tab_she&amp;qdt=0\">김동준</a> </li> <li> <a data-area=\"*q\" data-idx=\"5\" href=\"?where=nexearch&amp;query=%ED%8E%AD%EC%88%98+%EC%9D%B8%ED%98%95&amp;ie=utf8&amp;sm=tab_she&amp;qdt=0\">펭수 인형</a> </li> <li> <a data-area=\"*q\" data-idx=\"6\" href=\"?where=nexearch&amp;query=%ED%8E%AD%EC%88%98+%EC%96%BC%EA%B5%B4&amp;ie=utf8&amp;sm=tab_she&amp;qdt=0\">펭수 얼굴</a> </li> <li> <a data-area=\"*q\" data-idx=\"7\" href=\"?where=nexearch&amp;query=%ED%8E%AD%EC%88%98+%EB%8B%AC%EB%A0%A5&amp;ie=utf8&amp;sm=tab_she&amp;qdt=0\">펭수 달력</a> </li> <li> <a data-area=\"*q\" data-idx=\"8\" href=\"?where=nexearch&amp;query=%ED%8E%AD%EC%88%98+%EB%B0%B0%EA%B2%BD%ED%99%94%EB%A9%B4&amp;ie=utf8&amp;sm=tab_she&amp;qdt=0\">펭수 배경화면</a> </li> <li> <a data-area=\"*q\" data-idx=\"9\" href=\"?where=nexearch&amp;query=%EC%9E%90%EC%9D%B4%EC%96%B8%ED%8A%B8+%ED%8E%ADtv&amp;ie=utf8&amp;sm=tab_she&amp;qdt=0\">자이언트 펭tv</a> </li> <li> <a data-area=\"*q\" data-idx=\"10\" href=\"?where=nexearch&amp;query=%ED%94%8C%EB%A6%B0+%EA%B9%80%EB%8F%99%EC%A4%80&amp;ie=utf8&amp;sm=tab_she&amp;qdt=0\">플린 김동준</a> </li> </ul> </dd> <dd class=\"closed _related_keyword_closed\" style=\"display:none\"> 닫기 후 1주일간 유지됩니다. 연관검색어를 다시 보시겠습니까? <a class=\"open _related_keyword_toggle\" href=\"#\" onclick=\"return false;\" role=\"button\">열기</a></dd> </dl>"
      ]
     },
     "execution_count": 10,
     "metadata": {},
     "output_type": "execute_result"
    }
   ],
   "source": [
    "dl_tag"
   ]
  },
  {
   "cell_type": "code",
   "execution_count": 11,
   "metadata": {},
   "outputs": [],
   "source": [
    "a_tag = dl_tag.find_all('a')"
   ]
  },
  {
   "cell_type": "code",
   "execution_count": 19,
   "metadata": {},
   "outputs": [
    {
     "data": {
      "text/plain": [
       "[<a class=\"link_help\" href=\"https://help.naver.com/support/alias/search/word/word_1.naver\" onclick=\"return goOtherCR(this, 'a=rsk_top.guide&amp;r=&amp;i=&amp;u='+urlencode(urlexpand(this.href)));\" target=\"_blank\"><i class=\"sprenew api_ico_help\">도움말</i></a>,\n",
       " <a data-area=\"*q\" data-idx=\"1\" href=\"?where=nexearch&amp;query=%ED%8E%AD%EC%88%98+%EA%B9%80%EB%8F%99%EC%A4%80&amp;ie=utf8&amp;sm=tab_she&amp;qdt=0\">펭수 김동준</a>,\n",
       " <a data-area=\"*q\" data-idx=\"2\" href=\"?where=nexearch&amp;query=%ED%8E%AD%EC%88%98+%EC%A0%95%EC%B2%B4&amp;ie=utf8&amp;sm=tab_she&amp;qdt=0\">펭수 정체</a>,\n",
       " <a data-area=\"*q\" data-idx=\"3\" href=\"?where=nexearch&amp;query=%ED%8E%AD%EC%88%98+%EA%B5%BF%EC%A6%88&amp;ie=utf8&amp;sm=tab_she&amp;qdt=0\">펭수 굿즈</a>,\n",
       " <a data-area=\"*q\" data-idx=\"4\" href=\"?where=nexearch&amp;query=%EA%B9%80%EB%8F%99%EC%A4%80&amp;ie=utf8&amp;sm=tab_she&amp;qdt=0\">김동준</a>,\n",
       " <a data-area=\"*q\" data-idx=\"5\" href=\"?where=nexearch&amp;query=%ED%8E%AD%EC%88%98+%EC%9D%B8%ED%98%95&amp;ie=utf8&amp;sm=tab_she&amp;qdt=0\">펭수 인형</a>,\n",
       " <a data-area=\"*q\" data-idx=\"6\" href=\"?where=nexearch&amp;query=%ED%8E%AD%EC%88%98+%EC%96%BC%EA%B5%B4&amp;ie=utf8&amp;sm=tab_she&amp;qdt=0\">펭수 얼굴</a>,\n",
       " <a data-area=\"*q\" data-idx=\"7\" href=\"?where=nexearch&amp;query=%ED%8E%AD%EC%88%98+%EB%8B%AC%EB%A0%A5&amp;ie=utf8&amp;sm=tab_she&amp;qdt=0\">펭수 달력</a>,\n",
       " <a data-area=\"*q\" data-idx=\"8\" href=\"?where=nexearch&amp;query=%ED%8E%AD%EC%88%98+%EB%B0%B0%EA%B2%BD%ED%99%94%EB%A9%B4&amp;ie=utf8&amp;sm=tab_she&amp;qdt=0\">펭수 배경화면</a>,\n",
       " <a data-area=\"*q\" data-idx=\"9\" href=\"?where=nexearch&amp;query=%EC%9E%90%EC%9D%B4%EC%96%B8%ED%8A%B8+%ED%8E%ADtv&amp;ie=utf8&amp;sm=tab_she&amp;qdt=0\">자이언트 펭tv</a>,\n",
       " <a data-area=\"*q\" data-idx=\"10\" href=\"?where=nexearch&amp;query=%ED%94%8C%EB%A6%B0+%EA%B9%80%EB%8F%99%EC%A4%80&amp;ie=utf8&amp;sm=tab_she&amp;qdt=0\">플린 김동준</a>,\n",
       " <a class=\"open _related_keyword_toggle\" href=\"#\" onclick=\"return false;\" role=\"button\">열기</a>]"
      ]
     },
     "execution_count": 19,
     "metadata": {},
     "output_type": "execute_result"
    }
   ],
   "source": [
    "a_tag\n"
   ]
  },
  {
   "cell_type": "code",
   "execution_count": 20,
   "metadata": {},
   "outputs": [
    {
     "name": "stdout",
     "output_type": "stream",
     "text": [
      "<class 'bs4.element.Tag'>\n",
      "<class 'bs4.element.Tag'>\n",
      "<class 'bs4.element.Tag'>\n",
      "<class 'bs4.element.Tag'>\n",
      "<class 'bs4.element.Tag'>\n",
      "<class 'bs4.element.Tag'>\n",
      "<class 'bs4.element.Tag'>\n",
      "<class 'bs4.element.Tag'>\n",
      "<class 'bs4.element.Tag'>\n",
      "<class 'bs4.element.Tag'>\n",
      "<class 'bs4.element.Tag'>\n",
      "<class 'bs4.element.Tag'>\n"
     ]
    }
   ],
   "source": [
    "final_list= []\n",
    "for keyword in a_tag:\n",
    "    final_list.append(keyword.text)\n",
    "    print(keyword)\n",
    "    print(type(keyword))"
   ]
  },
  {
   "cell_type": "code",
   "execution_count": 16,
   "metadata": {},
   "outputs": [
    {
     "data": {
      "text/plain": [
       "['도움말',\n",
       " '펭수 김동준',\n",
       " '펭수 정체',\n",
       " '펭수 굿즈',\n",
       " '김동준',\n",
       " '펭수 인형',\n",
       " '펭수 얼굴',\n",
       " '펭수 달력',\n",
       " '펭수 배경화면',\n",
       " '자이언트 펭tv',\n",
       " '플린 김동준',\n",
       " '열기']"
      ]
     },
     "execution_count": 16,
     "metadata": {},
     "output_type": "execute_result"
    }
   ],
   "source": [
    "final_list"
   ]
  },
  {
   "cell_type": "code",
   "execution_count": null,
   "metadata": {},
   "outputs": [],
   "source": []
  }
 ],
 "metadata": {
  "kernelspec": {
   "display_name": "Python 3",
   "language": "python",
   "name": "python3"
  },
  "language_info": {
   "codemirror_mode": {
    "name": "ipython",
    "version": 3
   },
   "file_extension": ".py",
   "mimetype": "text/x-python",
   "name": "python",
   "nbconvert_exporter": "python",
   "pygments_lexer": "ipython3",
   "version": "3.7.4"
  }
 },
 "nbformat": 4,
 "nbformat_minor": 2
}
