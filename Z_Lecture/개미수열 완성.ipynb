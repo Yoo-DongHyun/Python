{
 "cells": [
  {
   "cell_type": "code",
   "execution_count": null,
   "metadata": {},
   "outputs": [],
   "source": [
    "# 개미 수열 완성 \n",
    "\n",
    "a= '1'\n",
    "b= ''\n",
    "count=1\n",
    "\n",
    "user_want = int(input(\"원하는 수열의 줄 수를 입력하세요\"))\n",
    "algo_count = 1\n",
    "\n",
    "while(algo_count != user_want):\n",
    "    for x in range(0,len(a)):\n",
    "        if x == len(a)-1:\n",
    "                b+= a[x] + str(count)\n",
    "                count=1\n",
    "        else:\n",
    "            if a[x]==a[x+1]:\n",
    "                count+=1\n",
    "            elif a[x]!=a[x+1]:\n",
    "                b += a[x] + str(count)\n",
    "                count=1\n",
    "    a=b\n",
    "    b=''\n",
    "    algo_count+=1\n",
    "            \n",
    "print(a)"
   ]
  }
 ],
 "metadata": {
  "kernelspec": {
   "display_name": "Python 3",
   "language": "python",
   "name": "python3"
  },
  "language_info": {
   "codemirror_mode": {
    "name": "ipython",
    "version": 3
   },
   "file_extension": ".py",
   "mimetype": "text/x-python",
   "name": "python",
   "nbconvert_exporter": "python",
   "pygments_lexer": "ipython3",
   "version": "3.7.4"
  }
 },
 "nbformat": 4,
 "nbformat_minor": 2
}
