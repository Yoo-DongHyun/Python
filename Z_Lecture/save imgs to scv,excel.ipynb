{
 "cells": [
  {
   "cell_type": "code",
   "execution_count": 1,
   "metadata": {},
   "outputs": [],
   "source": [
    "import requests"
   ]
  },
  {
   "cell_type": "code",
   "execution_count": 2,
   "metadata": {},
   "outputs": [],
   "source": [
    "from bs4 import BeautifulSoup"
   ]
  },
  {
   "cell_type": "code",
   "execution_count": null,
   "metadata": {},
   "outputs": [],
   "source": []
  },
  {
   "cell_type": "code",
   "execution_count": 23,
   "metadata": {},
   "outputs": [],
   "source": [
    "url = 'https://search.naver.com/search.naver'\n",
    "params = {\n",
    "    'where' : 'news',\n",
    "    'query' : '부산 우한폐렴'\n",
    "         }"
   ]
  },
  {
   "cell_type": "code",
   "execution_count": 24,
   "metadata": {},
   "outputs": [],
   "source": [
    "resp = requests.get(url, params=params)"
   ]
  },
  {
   "cell_type": "code",
   "execution_count": 25,
   "metadata": {},
   "outputs": [],
   "source": [
    "soup = BeautifulSoup(resp.content)"
   ]
  },
  {
   "cell_type": "code",
   "execution_count": null,
   "metadata": {},
   "outputs": [],
   "source": []
  },
  {
   "cell_type": "code",
   "execution_count": 14,
   "metadata": {},
   "outputs": [],
   "source": [
    "news_list=[]\n",
    "for a_tag in a_tags:\n",
    "    news_list.append(a_tag.text)\n",
    "    news_list.append(a_tag)"
   ]
  },
  {
   "cell_type": "code",
   "execution_count": null,
   "metadata": {},
   "outputs": [],
   "source": []
  },
  {
   "cell_type": "code",
   "execution_count": null,
   "metadata": {},
   "outputs": [],
   "source": []
  },
  {
   "cell_type": "code",
   "execution_count": 26,
   "metadata": {},
   "outputs": [],
   "source": [
    "news_items = soup.select('ul.type01>li')\n",
    "\n"
   ]
  },
  {
   "cell_type": "code",
   "execution_count": 27,
   "metadata": {},
   "outputs": [
    {
     "data": {
      "text/plain": [
       "10"
      ]
     },
     "execution_count": 27,
     "metadata": {},
     "output_type": "execute_result"
    }
   ],
   "source": [
    "len(news_items)"
   ]
  },
  {
   "cell_type": "code",
   "execution_count": 28,
   "metadata": {
    "collapsed": true
   },
   "outputs": [
    {
     "data": {
      "text/plain": [
       "[{'title': '부산 우한폐렴 의심 증상 30대 여성 역학 조사 결과 `음성 판정`',\n",
       "  'link': 'http://news.mk.co.kr/newsRead.php?no=85112&year=2020',\n",
       "  'img': 'https://search.pstatic.net/common/?src=https%3A%2F%2Fimgnews.pstatic.net%2Fimage%2Forigin%2F009%2F2020%2F01%2F28%2F4506882.jpg&type=ofullfill80_80_q75_re2'},\n",
       " {'title': '우한 폐렴 불안으로 중국행 줄줄이 취소…항공사들, 환불 수수료 면제해준다',\n",
       "  'link': 'http://www.etnews.com/20200127000125',\n",
       "  'img': 'https://search.pstatic.net/common/?src=https%3A%2F%2Fimgnews.pstatic.net%2Fimage%2Forigin%2F030%2F2020%2F01%2F27%2F2864144.jpg&type=ofullfill80_80_q75_re2'},\n",
       " {'title': '‘우한 폐렴’ 공포 확산... ‘양성·음성’ 뜻과 차이는?',\n",
       "  'link': 'http://daily.hankooki.com/lpage/society/202001/dh20200128095757137780.htm',\n",
       "  'img': 'https://search.pstatic.net/common/?src=https%3A%2F%2Fimgnews.pstatic.net%2Fimage%2Forigin%2F5358%2F2020%2F01%2F28%2F260263.jpg&type=ofullfill80_80_q75_re2'},\n",
       " {'title': \"우한 폐렴, 야생동물 시장서 시작...박쥐 먹은 블로거 '뭇매'\",\n",
       "  'link': 'http://www.edaily.co.kr/news/newspath.asp?newsid=01807286625642312',\n",
       "  'img': 'https://search.pstatic.net/common/?src=https%3A%2F%2Fimgnews.pstatic.net%2Fimage%2Forigin%2F018%2F2020%2F01%2F28%2F4563091.jpg&type=ofullfill80_80_q75_re2'},\n",
       " {'title': '[우한폐렴]부산서도 의심 환자 발생…설 명절 맞아 입국 30대 여성',\n",
       "  'link': 'http://news1.kr/articles/?3826014',\n",
       "  'img': 'https://search.pstatic.net/common/?src=https%3A%2F%2Fimgnews.pstatic.net%2Fimage%2Forigin%2F421%2F2020%2F01%2F27%2F4428384.jpg&type=ofullfill80_80_q75_re2'},\n",
       " {'title': '조경태 \"우한 폐렴 이후 입국한 중국인 관광객 송환 조치해야\"',\n",
       "  'link': 'http://www.ohmynews.com/NWS_Web/View/at_pg.aspx?CNTN_CD=A0002606829&CMPT_CD=P0010&utm_source=naver&utm_medium=newsearch&utm_campaign=naver_news',\n",
       "  'img': 'https://search.pstatic.net/common/?src=https%3A%2F%2Fimgnews.pstatic.net%2Fimage%2Forigin%2F047%2F2020%2F01%2F27%2F2254419.jpg&type=ofullfill80_80_q75_re2'},\n",
       " {'title': \"설 연휴기간 부산서도 '우한 폐렴 의심환자' 발생\",\n",
       "  'link': 'https://www.nocutnews.co.kr/news/5278954',\n",
       "  'img': 'https://search.pstatic.net/common/?src=https%3A%2F%2Fimgnews.pstatic.net%2Fimage%2Forigin%2F079%2F2020%2F01%2F27%2F3315640.jpg&type=ofullfill80_80_q75_re2'},\n",
       " {'title': '춘천ㆍ대구ㆍ부산서도 우한 코로나 ‘의심환자’ 발생',\n",
       "  'link': 'http://www.hankookilbo.com/news/npath/202001280113712282?did=NA',\n",
       "  'img': 'https://search.pstatic.net/common/?src=https%3A%2F%2Fimgnews.pstatic.net%2Fimage%2Forigin%2F469%2F2020%2F01%2F28%2F460980.jpg&type=ofullfill80_80_q75_re2'},\n",
       " {'title': '원주서 우한폐렴 의심환자 발생',\n",
       "  'link': 'http://www.busan.com/view/busan/view.php?code=2020012718494643980',\n",
       "  'img': 'https://search.pstatic.net/common/?src=https%3A%2F%2Fimgnews.pstatic.net%2Fimage%2Forigin%2F082%2F2020%2F01%2F27%2F976660.jpg&type=ofullfill80_80_q75_re2'},\n",
       " {'title': '[우한폐렴]\"마스크 없어요?\" 귀경길 터미널 편의점마다 \\'텅비어\\'',\n",
       "  'link': 'http://news1.kr/articles/?3826017',\n",
       "  'img': 'https://search.pstatic.net/common/?src=https%3A%2F%2Fimgnews.pstatic.net%2Fimage%2Forigin%2F421%2F2020%2F01%2F27%2F4428387.jpg&type=ofullfill80_80_q75_re2'}]"
      ]
     },
     "execution_count": 28,
     "metadata": {},
     "output_type": "execute_result"
    }
   ],
   "source": [
    "result_list = []\n",
    "for news_item in news_items:\n",
    "    img_tag = news_item.select('div.thumb img')\n",
    "    #or imt_tag = news_item.select('div.thumb>img')\n",
    "    title_tag= news_item.select('a._sp_each_title')\n",
    "    \n",
    "    if img_tag:\n",
    "        img = img_tag[0].get('src')\n",
    "    else:\n",
    "        img=''\n",
    "    title = title_tag[0].text\n",
    "    link = title_tag[0].get('href')\n",
    "    \n",
    "    result_list.append({\n",
    "         'title' : title,\n",
    "         'link' : link,\n",
    "         'img' : img\n",
    "     })\n",
    "result_list"
   ]
  },
  {
   "cell_type": "code",
   "execution_count": 29,
   "metadata": {},
   "outputs": [
    {
     "data": {
      "text/plain": [
       "'https://search.pstatic.net/common/?src=https%3A%2F%2Fimgnews.pstatic.net%2Fimage%2Forigin%2F009%2F2020%2F01%2F28%2F4506882.jpg&type=ofullfill80_80_q75_re2'"
      ]
     },
     "execution_count": 29,
     "metadata": {},
     "output_type": "execute_result"
    }
   ],
   "source": [
    "sample_img = result_list[0]['img']\n",
    "sample_img"
   ]
  },
  {
   "cell_type": "code",
   "execution_count": 37,
   "metadata": {},
   "outputs": [
    {
     "data": {
      "text/plain": [
       "<Response [200]>"
      ]
     },
     "execution_count": 37,
     "metadata": {},
     "output_type": "execute_result"
    }
   ],
   "source": [
    "img_resp = requests.get(sample_img)\n",
    "img_resp"
   ]
  },
  {
   "cell_type": "code",
   "execution_count": 38,
   "metadata": {},
   "outputs": [
    {
     "data": {
      "text/plain": [
       "b'\\xff\\xd8\\xff\\xe0\\x00\\x10JFIF\\x00\\x01\\x01\\x00\\x00\\x01\\x00\\x01\\x00\\x00\\xff\\xdb\\x00C\\x00\\x08\\x06\\x06\\x07\\x06\\x05\\x08\\x07\\x07\\x07\\t\\t\\x08\\n\\x0c\\x14\\r\\x0c\\x0b\\x0b\\x0c\\x19\\x12\\x13\\x0f\\x14\\x1d\\x1a\\x1f\\x1e\\x1d\\x1a\\x1c\\x1c $.\\' \",#\\x1c\\x1c(7),01444\\x1f\\'9=82<.342\\xff\\xdb\\x00C\\x01\\t\\t\\t\\x0c\\x0b\\x0c\\x18\\r\\r\\x182!\\x1c!22222222222222222222222222222222222222222222222222\\xff\\xc0\\x00\\x11\\x08\\x00P\\x00P\\x03\\x01\\x11\\x00\\x02\\x11\\x01\\x03\\x11\\x01\\xff\\xc4\\x00\\x1b\\x00\\x01\\x00\\x02\\x03\\x01\\x01\\x00\\x00\\x00\\x00\\x00\\x00\\x00\\x00\\x00\\x00\\x00\\x03\\x06\\x04\\x05\\x07\\x01\\x02\\xff\\xc4\\x009\\x10\\x00\\x02\\x01\\x04\\x00\\x04\\x02\\x07\\x06\\x03\\t\\x00\\x00\\x00\\x00\\x00\\x01\\x02\\x03\\x00\\x04\\x05\\x11\\x06\\x12!1\\x13A\\x14\"Qaq\\x81\\xd1\\x15#2\\x82\\xa1\\xa2\\x07b\\x91\\x16Cdr\\x93\\xb1\\xc1\\xd2\\xe1\\xff\\xc4\\x00\\x1a\\x01\\x01\\x00\\x03\\x01\\x01\\x01\\x00\\x00\\x00\\x00\\x00\\x00\\x00\\x00\\x00\\x00\\x00\\x01\\x02\\x03\\x04\\x05\\x06\\xff\\xc4\\x00,\\x11\\x00\\x02\\x02\\x01\\x02\\x05\\x01\\x07\\x05\\x00\\x00\\x00\\x00\\x00\\x00\\x00\\x00\\x01\\x02\\x11\\x03\\x12!\\x04\\x131AQ\"\\x052q\\x81\\x91\\xa1\\xe1\\x14Ba\\xc1\\xf0\\xff\\xda\\x00\\x0c\\x03\\x01\\x00\\x02\\x11\\x03\\x11\\x00?\\x00\\xef\\xf4\\x02\\x80P\\n\\x01@(\\x05\\x00\\xa0\\x14\\x02\\x80P\\n\\x01@(\\x05\\x00\\xa0\\x14\\x02\\x80P\\n\\x03\\x91\\xe1\\xf8\\xbb\\x8bqv\\xd0\\xbd\\xecI\\x97\\xb5tY7\\x1b}\\xf2\\xa9\\xed\\xb1\\xdc\\xf4\\xf7|\\xeaZk\\xa8\\xb8\\xb2\\xe9\\x85\\xe3\\x8c6l\\xacq\\xdc\\x98.\\x0fC\\x04\\xfe\\xabo\\xd8<\\x8d@i\\x96>c\\xed\\xfdjH \\xbay\\x16\\x16d=@\\xf6\\x9a\\x16\\x8cu:(w\\x99\\xcc\\xf7\\xa5\\xcc\\x91^ZA\\x1cz\\xf5\\xa5\\x12\\x1e\\xe7^L+\\x17\\x91\\xd9\\xe9\\xc7\\xd9\\xd1qN\\xdb\\xbf\\x0b\\xf2b}\\xab\\xc4m/+\\xf1\\x05\\x92.\\x81\\xdcq7\\x99#Z2{\\xa9\\xad\\xd9u\\xc0c\\xab\\xa9\\x7f\\xbeG\\xc4\\x97\\xf9\\xd0\\x9c\\xcd\\xc5S\\x8fT7\\xdd\\xc0\\x9d:\\x1e\\x9dw\\xee\\xa8\\xd4\\xfc\\x97\\x8f\\x03\\x85\\xbaQ\\x7f_\\xc1X\\x9f;\\xc4\\x8f,\\x8ax\\x93 \\xca\\x18\\xe8\\xab\\xaal~P+\\x07\\x96~O^\\x1e\\xc9\\xe0\\xe97\\x1f\\xb9\\\\\\xe2l\\xe7\\x13\\xd8b\\xa4\\xbe\\x83\\x89r\\xea\\xc8Uz^\\xc9\\xae\\xa7\\xd8\\rk\\x86R\\x93v\\xcf/\\xdb\\x1c.\\x0c\\x11\\x87*5w\\xfd\\x15\\x088\\xf3\\x8c\\xe4:<Q\\x97;\\xff\\x00\\x16\\xff\\x00Z\\xebH\\xf9\\xf93\\xb4\\xda\\xb9g\\xb5D\\x95\\x95\\x16\\xde=\\x10N\\xb6#\\xeb\\xf3\\xfaV\\xce;3%7i\")\\x12\\x1c\\x93\\xa0\\xbc\\xb7\\x8e\\xe7d/\\x88\\x0f\\xae?0\\xeb\\xf2=*\\'\\x8dU\\x88ewF\\xc3\\x1f\\x7f\\x97\\xc3\\x10\\xb8\\xdc\\x8b\\\\C\\xa0\\xc2\\xd2\\xfb\\xafMoA\\xc7\\xfe\\n\\xcb\\x97$\\xad\\x1a\\xf3b\\xdd3|\\xbc\\x7ff\\xd1\\x982\\x96\\xf3c\\xae\\x08\\xd02\\x0eh\\xdb\\xe0\\xc3\\xb8\\xaa\\xfcM\\x17\\x94s\\xee#\\xb8\\xce_d\\x0b`o\\x1c\\x96<\\xbb\\x81T\\xec\\x10O\\x7f\\x95a*\\xbd\\x8e\\xc8q\\x19\\x9ct\\xde\\xdf#G.\\'\\x8f\\x05\\xac\\x93>C\"\\xbc\\xa0\\xb3\\x8d\\x009|\\xcf\\xfb\\xd4n\\x89\\xe7eo\\xde_b\\xa3{\\x9d\\xbb\\x17-\\x17\\xdb\\xb9IJ\\xaf\\xde\\xa9\\x1d\\x9b\\xcc|*vh\\xa7\\xeas\\'\\xb4\\x98\\x930\\xbe\\x8a\\x82K\\xdc\\xa4$\\x8fY\\xdf\\x98l\\xfb\\xb4}\\x9e\\xea\\xa6\\x9d\\xf6\\xa2_\\x15\\x99\\xad\\xe6\\xfe\\xac\\x9a\\xfa\\xddb\\xe0\\xfb\\x99\\xde\\xe6\\xee\\xe1\\xa5\\x92-x\\xd2\\x92\\xba=A\\xd1\\xeckH\\xa7{\\x1c\\xf92J^\\xf3l\\xd0c\\xe1\\x0f \\xd2\\xd7L\\x11\\xcb6v\\xe8\\x1aX\\xf0\\xe0+s\\x1f\\x11|\\xff\\x00\\x94\\xfck\\xa6\\xbdG=\\xfaL\\xaee\\x86\\xde\\x1b\\x81\\x16\\xa5^C\\xb1\\xf9\\xbe\\x82\\xab\\xbbm2\\xdb$\\x9a\\x11\\xdcx\\x87\\xc7\\xe7\\x1aQ\\xc8W_\\xcb\\xa1S\\xfc\\x0b\\xee\\xcc> \\x99\\x8d\\xb5\\xb4,~\\xe6YP:\\x96\\xf5H\\xe5\\xff\\x00\\x8a\\xcai>\\xa6\\xb0\\xd5\\xd8\\x83\\x1d\\x98\\xc2p\\xe2\\xbc\\x97O\\xb5\\x99\\xd6\\x00\\x91\\x10\\xcd\\xb6\\x0c;\\x12:u\\xf6\\xd73\\x8cu\\x1d\\x90\\xd6\\xa3oce\\x94\\xe2|}\\x87\\x10\\xae\\x1a(#\\x91\\xaem\\xe4\\x13O\\xb4\\x02\"c`\\x80\\x15\\'d\\xefZ\\xdf\\x9dK\\xd1\\xa5\\xd2-\\x1en\\xb5\\xaaV\\xbe\\x05\\x12\\xef\\x86q\\x97)3\\xd8\\x9b\\x84\\xbc\\x99\\x89\\xdc\\xbe\\xb2\\xf9\\x96\\xe8\\x17}\\xb7XE\\xab\\xa3Ia\\x94c\\xa8\\xa2\\xc5\\x04\\xd9\\x8c\\xc9\\xc7Csl\\xc1\\x03\\x15\\x95\\xdf\\x91\\x08POB~\\x15\\xaa\\xc7\\xdd\\x1c\\xf7\\xbd6^3\\xaba/\\xf0\\xb3\\x1d\\xe8rC%\\xf1\\x9a5\\x9e8\\xe5\\x0c\\xea\\x07>\\x89Q\\xd4\\x03\\xa1V\\x8aQ[\\x91\\xa2R~\\x94W\\xb0\\xd8\\xcb\\x86\\xd3z<\\xa4\\x0e\\xe7\\x90\\xf4\\xad\\xa1L\\xe7\\xc9\\tG\\xaa:\\x90\\xc6ZzKM\\xcb$e\\x95\\x81\\x01u\\xd4\\xf9\\xfa\\xa7\\xca\\xb7i\\x9c\\xcah\\x92;\\x19\\x82\\xc8\\xa3 \\xc549\\x04\\x9dtA\\xf7\\x8f\\x8f\\x9dGF[\\xaa$[[\\xdf\\x01\\x13\\x92\\t\\x8b?\\xad\\xcau\\xaf\\x7f\\x9dF\\xad\\xc9Q\\xd8\\x83\\'k4\\xb0\\xc2^\\x16B\\x92kD\\xf7\\xd0\\xd6\\xc5f\\xd5\\x9bFTP\\xf8\\xef\\x1c^\\xfb\\x1d\\x122\\xafBv\\xdd\\x86\\xcfs\\xaf\\x85f\\xd1t\\xec\\xf7\\x8a\\x15\\xbf\\xb4>,\\x04\\xab\\xb1\\x80\\'8\\xe9\\xb1\\x1a)\\xf8\\x8d\\x83Y\\x9b\\xc6^\\x83o\\xc3\\xb6\\xc8\\xcdc#\\xe8\\xf3\\xec\\xb1\\x03\\xbe\\xc1\\xf9\\xd6\\xd4\\xaa\\xe8\\xc9\\xc9\\xf4\\xb2\\xa3y\\xc2\\x970\\xf1~J\\xd1q\\xc6\\xe65\"UD\\x98C\\xca\\xb2uR7\\xbfn\\xb5Q\\x19\\xb5\\xd0W\\x93\\xe6\\xdb\\twgi\\x7fm*\\x95\\x91.\"V\\xd1\\xd8\\xd8\\x12oG\\xce\\xa5\\xadN\\xca\\xb9\\xb8\\xf7-\\x18l\\\\\\x8a\\x83\\x98\\x9a\\xd6\\x119rdl\\xe9\\xa2\\xcc0\\xd0]|\\r]H\\xc9\\xa2x\\xecW\\x9b\\xf05E\\xb2\\xc9\\x19\\t\\x8dRz\\xa9\\xfe\\x95V\\xcb\\xa2Y1\\t\"\\x00\\x07ov\\xaa\\xafr\\xebc\\x02\\xf3\\x87\\xe2\\x98\\x1f\\x12\\xd2\\tN\\x88\\x0c\\xe8\\t\\x1d\\x08\\x1d\\xfd\\x84\\xef\\xe5Tj\\xcb\\xc6TW\\xb2<\\x0e\\xd7\\xb7\\xc9y$\\xfbh\\xd0,q\\xf2\\xf6\\xf5\\xb7\\xbd\\xd5t\\xb2u#\\xdf\\xb0.-\\xb0\\xebg\\x1c6\\xc1\\xd2>T\\x99\\x97\\xd6\\x07\\xc8\\xf6\\xefR\\x93\\xeeO1\\x1a,O\\x08\\xe41\\xd9\\x0b\\xab\\x89\\xa6,\\xd3\\xaa\\x02\\xe3\\xbfGS\\xe7\\xee\\x15:\\x1b!\\xe4F\\xdd\\xf0$\\x0b\\x96!\\x9b\\xc6\\x9f\\xc5\\xd1\\x1f\\xe6\\xfa\\xd6\\xd1\\x81\\xcf9\\xdb&\\x8e\\xcb\\xc1\\x1a\\xe4#\\xe5Z\\xa4a&tU\\xc1\\xdd\\x8e\\xf0\\xfe\\xe1\\xf5\\xaee4ur\\xa5\\xe0\\x9d0\\xf7\\x03\\xbc_\\xb8SZ\\'\\x95/\\x06Bc&\\x1d\\xe3\\xfdEF\\xb4[\\x97\"aa(\\x1f\\x83\\xf5\\x14\\xd4\\x87.A\\xac$?\\xdd\\x8f\\xea)\\xa9\\r\\x121\\xdf\\x151\\xed\\x17\\xee\\x15:\\xe2C\\xc7/\\x06\\x1c\\xd8[\\xc6e)\\x0e\\xd7`\\x91\\xce\\x06\\xf5\\xbe\\x9d\\xfbu\\xa9\\xd5\\x17\\xdc\\x85\\t\\xae\\xc6\\x1b\\xf0\\xe5\\xf9\\xfc0\\xfe\\xe5\\xfa\\xd5\\xb5\\xc3\\xc9^^O\\x06;\\xf0\\xd6T\\x8e\\x96\\xfb\\xfc\\xeb\\xf5\\xabs!\\xe4\\xab\\xc5\\x93\\xc1\\x8e\\xfc/\\x98=\\xad\\x07\\xfa\\x89\\xff\\x00j\\x95\\x92\\x1eJ\\xbcY\\x1f\\xed:-q\\x9e\\x80\\xa0\\x14\\x02\\x80P\\n\\x01@(\\x05\\x00\\xa0\\x14\\x02\\x80P\\n\\x01@(\\x05\\x00\\xa0\\x14\\x02\\x80\\xff\\xd9'"
      ]
     },
     "execution_count": 38,
     "metadata": {},
     "output_type": "execute_result"
    }
   ],
   "source": [
    "img_resp.content"
   ]
  },
  {
   "cell_type": "code",
   "execution_count": 42,
   "metadata": {},
   "outputs": [],
   "source": [
    "#컴퓨터에 이미지 저장하기\n",
    "with open(\"sample_img.png\",'wb') as f: #with 절을 쓰면, with을 벗어나는 순간 close 함수를 호출 해줌// wb는 write binary\n",
    "    f.write(img_resp.content)       #img, mp3 등등이 binary형식\n"
   ]
  },
  {
   "cell_type": "code",
   "execution_count": 45,
   "metadata": {},
   "outputs": [],
   "source": [
    "#file 입출력\n",
    "file = open(\"sample_txt.txt\",\"w\") #파일 열기 // 옆에 w는 쓰기모드라는 뜻, w뒤의 기본값은 text\n",
    "file.write(\"hi\") # 파일에 입력하기\n",
    "file.close() #항상 닫아야 함"
   ]
  },
  {
   "cell_type": "code",
   "execution_count": 47,
   "metadata": {},
   "outputs": [
    {
     "name": "stdout",
     "output_type": "stream",
     "text": [
      "hi\n"
     ]
    }
   ],
   "source": [
    "with open(\"sample_txt.txt\", 'r') as f:\n",
    "    content = f.read()\n",
    "    print(content)"
   ]
  },
  {
   "cell_type": "code",
   "execution_count": 48,
   "metadata": {},
   "outputs": [
    {
     "data": {
      "text/plain": [
       "[{'title': '부산 우한폐렴 의심 증상 30대 여성 역학 조사 결과 `음성 판정`',\n",
       "  'link': 'http://news.mk.co.kr/newsRead.php?no=85112&year=2020',\n",
       "  'img': 'https://search.pstatic.net/common/?src=https%3A%2F%2Fimgnews.pstatic.net%2Fimage%2Forigin%2F009%2F2020%2F01%2F28%2F4506882.jpg&type=ofullfill80_80_q75_re2'},\n",
       " {'title': '우한 폐렴 불안으로 중국행 줄줄이 취소…항공사들, 환불 수수료 면제해준다',\n",
       "  'link': 'http://www.etnews.com/20200127000125',\n",
       "  'img': 'https://search.pstatic.net/common/?src=https%3A%2F%2Fimgnews.pstatic.net%2Fimage%2Forigin%2F030%2F2020%2F01%2F27%2F2864144.jpg&type=ofullfill80_80_q75_re2'},\n",
       " {'title': '‘우한 폐렴’ 공포 확산... ‘양성·음성’ 뜻과 차이는?',\n",
       "  'link': 'http://daily.hankooki.com/lpage/society/202001/dh20200128095757137780.htm',\n",
       "  'img': 'https://search.pstatic.net/common/?src=https%3A%2F%2Fimgnews.pstatic.net%2Fimage%2Forigin%2F5358%2F2020%2F01%2F28%2F260263.jpg&type=ofullfill80_80_q75_re2'},\n",
       " {'title': \"우한 폐렴, 야생동물 시장서 시작...박쥐 먹은 블로거 '뭇매'\",\n",
       "  'link': 'http://www.edaily.co.kr/news/newspath.asp?newsid=01807286625642312',\n",
       "  'img': 'https://search.pstatic.net/common/?src=https%3A%2F%2Fimgnews.pstatic.net%2Fimage%2Forigin%2F018%2F2020%2F01%2F28%2F4563091.jpg&type=ofullfill80_80_q75_re2'},\n",
       " {'title': '[우한폐렴]부산서도 의심 환자 발생…설 명절 맞아 입국 30대 여성',\n",
       "  'link': 'http://news1.kr/articles/?3826014',\n",
       "  'img': 'https://search.pstatic.net/common/?src=https%3A%2F%2Fimgnews.pstatic.net%2Fimage%2Forigin%2F421%2F2020%2F01%2F27%2F4428384.jpg&type=ofullfill80_80_q75_re2'},\n",
       " {'title': '조경태 \"우한 폐렴 이후 입국한 중국인 관광객 송환 조치해야\"',\n",
       "  'link': 'http://www.ohmynews.com/NWS_Web/View/at_pg.aspx?CNTN_CD=A0002606829&CMPT_CD=P0010&utm_source=naver&utm_medium=newsearch&utm_campaign=naver_news',\n",
       "  'img': 'https://search.pstatic.net/common/?src=https%3A%2F%2Fimgnews.pstatic.net%2Fimage%2Forigin%2F047%2F2020%2F01%2F27%2F2254419.jpg&type=ofullfill80_80_q75_re2'},\n",
       " {'title': \"설 연휴기간 부산서도 '우한 폐렴 의심환자' 발생\",\n",
       "  'link': 'https://www.nocutnews.co.kr/news/5278954',\n",
       "  'img': 'https://search.pstatic.net/common/?src=https%3A%2F%2Fimgnews.pstatic.net%2Fimage%2Forigin%2F079%2F2020%2F01%2F27%2F3315640.jpg&type=ofullfill80_80_q75_re2'},\n",
       " {'title': '춘천ㆍ대구ㆍ부산서도 우한 코로나 ‘의심환자’ 발생',\n",
       "  'link': 'http://www.hankookilbo.com/news/npath/202001280113712282?did=NA',\n",
       "  'img': 'https://search.pstatic.net/common/?src=https%3A%2F%2Fimgnews.pstatic.net%2Fimage%2Forigin%2F469%2F2020%2F01%2F28%2F460980.jpg&type=ofullfill80_80_q75_re2'},\n",
       " {'title': '원주서 우한폐렴 의심환자 발생',\n",
       "  'link': 'http://www.busan.com/view/busan/view.php?code=2020012718494643980',\n",
       "  'img': 'https://search.pstatic.net/common/?src=https%3A%2F%2Fimgnews.pstatic.net%2Fimage%2Forigin%2F082%2F2020%2F01%2F27%2F976660.jpg&type=ofullfill80_80_q75_re2'},\n",
       " {'title': '[우한폐렴]\"마스크 없어요?\" 귀경길 터미널 편의점마다 \\'텅비어\\'',\n",
       "  'link': 'http://news1.kr/articles/?3826017',\n",
       "  'img': 'https://search.pstatic.net/common/?src=https%3A%2F%2Fimgnews.pstatic.net%2Fimage%2Forigin%2F421%2F2020%2F01%2F27%2F4428387.jpg&type=ofullfill80_80_q75_re2'}]"
      ]
     },
     "execution_count": 48,
     "metadata": {},
     "output_type": "execute_result"
    }
   ],
   "source": [
    "result_list"
   ]
  },
  {
   "cell_type": "code",
   "execution_count": 51,
   "metadata": {},
   "outputs": [],
   "source": [
    "import os #os 모듈 사용할거\n",
    "from datetime import datetime #언제 크롤링할지 써줄거라"
   ]
  },
  {
   "cell_type": "code",
   "execution_count": 54,
   "metadata": {},
   "outputs": [],
   "source": [
    "if not os.path.exists('image'):\n",
    "    os.makedirs('image')\n",
    "img_dir = 'image'\n"
   ]
  },
  {
   "cell_type": "code",
   "execution_count": 57,
   "metadata": {},
   "outputs": [],
   "source": [
    "for idx, news in enumerate(result_list):\n",
    "    result_list[idx]['id'] = idx #[idx]에 id를 추가해줄거\n",
    "    resp = requests.get(news['img'])\n",
    "    \n",
    "    filename = \"{0}.png\".format(idx)\n",
    "    filepath = \"{0}/{1}\".format(img_dir,filename)\n",
    "    \n",
    "    with open (filepath, 'wb') as f:\n",
    "        f.write(resp.content)\n",
    "    \n",
    "    result_list[idx]['img_path'] = filepath #[idx]에 img_path도 추가해줄거"
   ]
  },
  {
   "cell_type": "raw",
   "metadata": {},
   "source": []
  },
  {
   "cell_type": "code",
   "execution_count": 58,
   "metadata": {
    "collapsed": true
   },
   "outputs": [
    {
     "data": {
      "text/plain": [
       "[{'title': '부산 우한폐렴 의심 증상 30대 여성 역학 조사 결과 `음성 판정`',\n",
       "  'link': 'http://news.mk.co.kr/newsRead.php?no=85112&year=2020',\n",
       "  'img': 'https://search.pstatic.net/common/?src=https%3A%2F%2Fimgnews.pstatic.net%2Fimage%2Forigin%2F009%2F2020%2F01%2F28%2F4506882.jpg&type=ofullfill80_80_q75_re2',\n",
       "  'id': 0,\n",
       "  'img_path': 'image/0.png'},\n",
       " {'title': '우한 폐렴 불안으로 중국행 줄줄이 취소…항공사들, 환불 수수료 면제해준다',\n",
       "  'link': 'http://www.etnews.com/20200127000125',\n",
       "  'img': 'https://search.pstatic.net/common/?src=https%3A%2F%2Fimgnews.pstatic.net%2Fimage%2Forigin%2F030%2F2020%2F01%2F27%2F2864144.jpg&type=ofullfill80_80_q75_re2',\n",
       "  'id': 1,\n",
       "  'img_path': 'image/1.png'},\n",
       " {'title': '‘우한 폐렴’ 공포 확산... ‘양성·음성’ 뜻과 차이는?',\n",
       "  'link': 'http://daily.hankooki.com/lpage/society/202001/dh20200128095757137780.htm',\n",
       "  'img': 'https://search.pstatic.net/common/?src=https%3A%2F%2Fimgnews.pstatic.net%2Fimage%2Forigin%2F5358%2F2020%2F01%2F28%2F260263.jpg&type=ofullfill80_80_q75_re2',\n",
       "  'id': 2,\n",
       "  'img_path': 'image/2.png'},\n",
       " {'title': \"우한 폐렴, 야생동물 시장서 시작...박쥐 먹은 블로거 '뭇매'\",\n",
       "  'link': 'http://www.edaily.co.kr/news/newspath.asp?newsid=01807286625642312',\n",
       "  'img': 'https://search.pstatic.net/common/?src=https%3A%2F%2Fimgnews.pstatic.net%2Fimage%2Forigin%2F018%2F2020%2F01%2F28%2F4563091.jpg&type=ofullfill80_80_q75_re2',\n",
       "  'id': 3,\n",
       "  'img_path': 'image/3.png'},\n",
       " {'title': '[우한폐렴]부산서도 의심 환자 발생…설 명절 맞아 입국 30대 여성',\n",
       "  'link': 'http://news1.kr/articles/?3826014',\n",
       "  'img': 'https://search.pstatic.net/common/?src=https%3A%2F%2Fimgnews.pstatic.net%2Fimage%2Forigin%2F421%2F2020%2F01%2F27%2F4428384.jpg&type=ofullfill80_80_q75_re2',\n",
       "  'id': 4,\n",
       "  'img_path': 'image/4.png'},\n",
       " {'title': '조경태 \"우한 폐렴 이후 입국한 중국인 관광객 송환 조치해야\"',\n",
       "  'link': 'http://www.ohmynews.com/NWS_Web/View/at_pg.aspx?CNTN_CD=A0002606829&CMPT_CD=P0010&utm_source=naver&utm_medium=newsearch&utm_campaign=naver_news',\n",
       "  'img': 'https://search.pstatic.net/common/?src=https%3A%2F%2Fimgnews.pstatic.net%2Fimage%2Forigin%2F047%2F2020%2F01%2F27%2F2254419.jpg&type=ofullfill80_80_q75_re2',\n",
       "  'id': 5,\n",
       "  'img_path': 'image/5.png'},\n",
       " {'title': \"설 연휴기간 부산서도 '우한 폐렴 의심환자' 발생\",\n",
       "  'link': 'https://www.nocutnews.co.kr/news/5278954',\n",
       "  'img': 'https://search.pstatic.net/common/?src=https%3A%2F%2Fimgnews.pstatic.net%2Fimage%2Forigin%2F079%2F2020%2F01%2F27%2F3315640.jpg&type=ofullfill80_80_q75_re2',\n",
       "  'id': 6,\n",
       "  'img_path': 'image/6.png'},\n",
       " {'title': '춘천ㆍ대구ㆍ부산서도 우한 코로나 ‘의심환자’ 발생',\n",
       "  'link': 'http://www.hankookilbo.com/news/npath/202001280113712282?did=NA',\n",
       "  'img': 'https://search.pstatic.net/common/?src=https%3A%2F%2Fimgnews.pstatic.net%2Fimage%2Forigin%2F469%2F2020%2F01%2F28%2F460980.jpg&type=ofullfill80_80_q75_re2',\n",
       "  'id': 7,\n",
       "  'img_path': 'image/7.png'},\n",
       " {'title': '원주서 우한폐렴 의심환자 발생',\n",
       "  'link': 'http://www.busan.com/view/busan/view.php?code=2020012718494643980',\n",
       "  'img': 'https://search.pstatic.net/common/?src=https%3A%2F%2Fimgnews.pstatic.net%2Fimage%2Forigin%2F082%2F2020%2F01%2F27%2F976660.jpg&type=ofullfill80_80_q75_re2',\n",
       "  'id': 8,\n",
       "  'img_path': 'image/8.png'},\n",
       " {'title': '[우한폐렴]\"마스크 없어요?\" 귀경길 터미널 편의점마다 \\'텅비어\\'',\n",
       "  'link': 'http://news1.kr/articles/?3826017',\n",
       "  'img': 'https://search.pstatic.net/common/?src=https%3A%2F%2Fimgnews.pstatic.net%2Fimage%2Forigin%2F421%2F2020%2F01%2F27%2F4428387.jpg&type=ofullfill80_80_q75_re2',\n",
       "  'id': 9,\n",
       "  'img_path': 'image/9.png'}]"
      ]
     },
     "execution_count": 58,
     "metadata": {},
     "output_type": "execute_result"
    }
   ],
   "source": [
    "result_list"
   ]
  },
  {
   "cell_type": "code",
   "execution_count": 59,
   "metadata": {},
   "outputs": [],
   "source": [
    "import pandas as pd"
   ]
  },
  {
   "cell_type": "code",
   "execution_count": 60,
   "metadata": {},
   "outputs": [],
   "source": [
    "#DataFrame을 만들거임\n",
    "news_df = pd.DataFrame(result_list)\n"
   ]
  },
  {
   "cell_type": "code",
   "execution_count": 61,
   "metadata": {},
   "outputs": [
    {
     "data": {
      "text/html": [
       "<div>\n",
       "<style scoped>\n",
       "    .dataframe tbody tr th:only-of-type {\n",
       "        vertical-align: middle;\n",
       "    }\n",
       "\n",
       "    .dataframe tbody tr th {\n",
       "        vertical-align: top;\n",
       "    }\n",
       "\n",
       "    .dataframe thead th {\n",
       "        text-align: right;\n",
       "    }\n",
       "</style>\n",
       "<table border=\"1\" class=\"dataframe\">\n",
       "  <thead>\n",
       "    <tr style=\"text-align: right;\">\n",
       "      <th></th>\n",
       "      <th>title</th>\n",
       "      <th>link</th>\n",
       "      <th>img</th>\n",
       "      <th>id</th>\n",
       "      <th>img_path</th>\n",
       "    </tr>\n",
       "  </thead>\n",
       "  <tbody>\n",
       "    <tr>\n",
       "      <td>0</td>\n",
       "      <td>부산 우한폐렴 의심 증상 30대 여성 역학 조사 결과 `음성 판정`</td>\n",
       "      <td>http://news.mk.co.kr/newsRead.php?no=85112&amp;yea...</td>\n",
       "      <td>https://search.pstatic.net/common/?src=https%3...</td>\n",
       "      <td>0</td>\n",
       "      <td>image/0.png</td>\n",
       "    </tr>\n",
       "    <tr>\n",
       "      <td>1</td>\n",
       "      <td>우한 폐렴 불안으로 중국행 줄줄이 취소…항공사들, 환불 수수료 면제해준다</td>\n",
       "      <td>http://www.etnews.com/20200127000125</td>\n",
       "      <td>https://search.pstatic.net/common/?src=https%3...</td>\n",
       "      <td>1</td>\n",
       "      <td>image/1.png</td>\n",
       "    </tr>\n",
       "    <tr>\n",
       "      <td>2</td>\n",
       "      <td>‘우한 폐렴’ 공포 확산... ‘양성·음성’ 뜻과 차이는?</td>\n",
       "      <td>http://daily.hankooki.com/lpage/society/202001...</td>\n",
       "      <td>https://search.pstatic.net/common/?src=https%3...</td>\n",
       "      <td>2</td>\n",
       "      <td>image/2.png</td>\n",
       "    </tr>\n",
       "    <tr>\n",
       "      <td>3</td>\n",
       "      <td>우한 폐렴, 야생동물 시장서 시작...박쥐 먹은 블로거 '뭇매'</td>\n",
       "      <td>http://www.edaily.co.kr/news/newspath.asp?news...</td>\n",
       "      <td>https://search.pstatic.net/common/?src=https%3...</td>\n",
       "      <td>3</td>\n",
       "      <td>image/3.png</td>\n",
       "    </tr>\n",
       "    <tr>\n",
       "      <td>4</td>\n",
       "      <td>[우한폐렴]부산서도 의심 환자 발생…설 명절 맞아 입국 30대 여성</td>\n",
       "      <td>http://news1.kr/articles/?3826014</td>\n",
       "      <td>https://search.pstatic.net/common/?src=https%3...</td>\n",
       "      <td>4</td>\n",
       "      <td>image/4.png</td>\n",
       "    </tr>\n",
       "    <tr>\n",
       "      <td>5</td>\n",
       "      <td>조경태 \"우한 폐렴 이후 입국한 중국인 관광객 송환 조치해야\"</td>\n",
       "      <td>http://www.ohmynews.com/NWS_Web/View/at_pg.asp...</td>\n",
       "      <td>https://search.pstatic.net/common/?src=https%3...</td>\n",
       "      <td>5</td>\n",
       "      <td>image/5.png</td>\n",
       "    </tr>\n",
       "    <tr>\n",
       "      <td>6</td>\n",
       "      <td>설 연휴기간 부산서도 '우한 폐렴 의심환자' 발생</td>\n",
       "      <td>https://www.nocutnews.co.kr/news/5278954</td>\n",
       "      <td>https://search.pstatic.net/common/?src=https%3...</td>\n",
       "      <td>6</td>\n",
       "      <td>image/6.png</td>\n",
       "    </tr>\n",
       "    <tr>\n",
       "      <td>7</td>\n",
       "      <td>춘천ㆍ대구ㆍ부산서도 우한 코로나 ‘의심환자’ 발생</td>\n",
       "      <td>http://www.hankookilbo.com/news/npath/20200128...</td>\n",
       "      <td>https://search.pstatic.net/common/?src=https%3...</td>\n",
       "      <td>7</td>\n",
       "      <td>image/7.png</td>\n",
       "    </tr>\n",
       "    <tr>\n",
       "      <td>8</td>\n",
       "      <td>원주서 우한폐렴 의심환자 발생</td>\n",
       "      <td>http://www.busan.com/view/busan/view.php?code=...</td>\n",
       "      <td>https://search.pstatic.net/common/?src=https%3...</td>\n",
       "      <td>8</td>\n",
       "      <td>image/8.png</td>\n",
       "    </tr>\n",
       "    <tr>\n",
       "      <td>9</td>\n",
       "      <td>[우한폐렴]\"마스크 없어요?\" 귀경길 터미널 편의점마다 '텅비어'</td>\n",
       "      <td>http://news1.kr/articles/?3826017</td>\n",
       "      <td>https://search.pstatic.net/common/?src=https%3...</td>\n",
       "      <td>9</td>\n",
       "      <td>image/9.png</td>\n",
       "    </tr>\n",
       "  </tbody>\n",
       "</table>\n",
       "</div>"
      ],
      "text/plain": [
       "                                      title  \\\n",
       "0     부산 우한폐렴 의심 증상 30대 여성 역학 조사 결과 `음성 판정`   \n",
       "1  우한 폐렴 불안으로 중국행 줄줄이 취소…항공사들, 환불 수수료 면제해준다   \n",
       "2          ‘우한 폐렴’ 공포 확산... ‘양성·음성’ 뜻과 차이는?   \n",
       "3       우한 폐렴, 야생동물 시장서 시작...박쥐 먹은 블로거 '뭇매'   \n",
       "4     [우한폐렴]부산서도 의심 환자 발생…설 명절 맞아 입국 30대 여성   \n",
       "5        조경태 \"우한 폐렴 이후 입국한 중국인 관광객 송환 조치해야\"   \n",
       "6               설 연휴기간 부산서도 '우한 폐렴 의심환자' 발생   \n",
       "7               춘천ㆍ대구ㆍ부산서도 우한 코로나 ‘의심환자’ 발생   \n",
       "8                          원주서 우한폐렴 의심환자 발생   \n",
       "9      [우한폐렴]\"마스크 없어요?\" 귀경길 터미널 편의점마다 '텅비어'   \n",
       "\n",
       "                                                link  \\\n",
       "0  http://news.mk.co.kr/newsRead.php?no=85112&yea...   \n",
       "1               http://www.etnews.com/20200127000125   \n",
       "2  http://daily.hankooki.com/lpage/society/202001...   \n",
       "3  http://www.edaily.co.kr/news/newspath.asp?news...   \n",
       "4                  http://news1.kr/articles/?3826014   \n",
       "5  http://www.ohmynews.com/NWS_Web/View/at_pg.asp...   \n",
       "6           https://www.nocutnews.co.kr/news/5278954   \n",
       "7  http://www.hankookilbo.com/news/npath/20200128...   \n",
       "8  http://www.busan.com/view/busan/view.php?code=...   \n",
       "9                  http://news1.kr/articles/?3826017   \n",
       "\n",
       "                                                 img  id     img_path  \n",
       "0  https://search.pstatic.net/common/?src=https%3...   0  image/0.png  \n",
       "1  https://search.pstatic.net/common/?src=https%3...   1  image/1.png  \n",
       "2  https://search.pstatic.net/common/?src=https%3...   2  image/2.png  \n",
       "3  https://search.pstatic.net/common/?src=https%3...   3  image/3.png  \n",
       "4  https://search.pstatic.net/common/?src=https%3...   4  image/4.png  \n",
       "5  https://search.pstatic.net/common/?src=https%3...   5  image/5.png  \n",
       "6  https://search.pstatic.net/common/?src=https%3...   6  image/6.png  \n",
       "7  https://search.pstatic.net/common/?src=https%3...   7  image/7.png  \n",
       "8  https://search.pstatic.net/common/?src=https%3...   8  image/8.png  \n",
       "9  https://search.pstatic.net/common/?src=https%3...   9  image/9.png  "
      ]
     },
     "execution_count": 61,
     "metadata": {},
     "output_type": "execute_result"
    }
   ],
   "source": [
    "news_df"
   ]
  },
  {
   "cell_type": "code",
   "execution_count": 63,
   "metadata": {},
   "outputs": [],
   "source": [
    "#DataFrame 형식으로 저장할거\n",
    "filename = 'newslist.csv'\n",
    "news_df.to_csv(filename, encoding='cp949')"
   ]
  },
  {
   "cell_type": "code",
   "execution_count": 64,
   "metadata": {},
   "outputs": [],
   "source": [
    "#엑셀 형식으로 저장하기\n",
    "filename = 'newslist.xlsx'\n",
    "news_df.to_excel(filename, encoding='cp949')"
   ]
  },
  {
   "cell_type": "code",
   "execution_count": 66,
   "metadata": {},
   "outputs": [
    {
     "data": {
      "text/html": [
       "<div>\n",
       "<style scoped>\n",
       "    .dataframe tbody tr th:only-of-type {\n",
       "        vertical-align: middle;\n",
       "    }\n",
       "\n",
       "    .dataframe tbody tr th {\n",
       "        vertical-align: top;\n",
       "    }\n",
       "\n",
       "    .dataframe thead th {\n",
       "        text-align: right;\n",
       "    }\n",
       "</style>\n",
       "<table border=\"1\" class=\"dataframe\">\n",
       "  <thead>\n",
       "    <tr style=\"text-align: right;\">\n",
       "      <th></th>\n",
       "      <th>title</th>\n",
       "      <th>link</th>\n",
       "      <th>img</th>\n",
       "      <th>id</th>\n",
       "      <th>img_path</th>\n",
       "    </tr>\n",
       "  </thead>\n",
       "  <tbody>\n",
       "    <tr>\n",
       "      <td>0</td>\n",
       "      <td>부산 우한폐렴 의심 증상 30대 여성 역학 조사 결과 `음성 판정`</td>\n",
       "      <td>http://news.mk.co.kr/newsRead.php?no=85112&amp;yea...</td>\n",
       "      <td>https://search.pstatic.net/common/?src=https%3...</td>\n",
       "      <td>0</td>\n",
       "      <td>image/0.png</td>\n",
       "    </tr>\n",
       "    <tr>\n",
       "      <td>1</td>\n",
       "      <td>우한 폐렴 불안으로 중국행 줄줄이 취소…항공사들, 환불 수수료 면제해준다</td>\n",
       "      <td>http://www.etnews.com/20200127000125</td>\n",
       "      <td>https://search.pstatic.net/common/?src=https%3...</td>\n",
       "      <td>1</td>\n",
       "      <td>image/1.png</td>\n",
       "    </tr>\n",
       "    <tr>\n",
       "      <td>2</td>\n",
       "      <td>‘우한 폐렴’ 공포 확산... ‘양성·음성’ 뜻과 차이는?</td>\n",
       "      <td>http://daily.hankooki.com/lpage/society/202001...</td>\n",
       "      <td>https://search.pstatic.net/common/?src=https%3...</td>\n",
       "      <td>2</td>\n",
       "      <td>image/2.png</td>\n",
       "    </tr>\n",
       "    <tr>\n",
       "      <td>3</td>\n",
       "      <td>우한 폐렴, 야생동물 시장서 시작...박쥐 먹은 블로거 '뭇매'</td>\n",
       "      <td>http://www.edaily.co.kr/news/newspath.asp?news...</td>\n",
       "      <td>https://search.pstatic.net/common/?src=https%3...</td>\n",
       "      <td>3</td>\n",
       "      <td>image/3.png</td>\n",
       "    </tr>\n",
       "    <tr>\n",
       "      <td>4</td>\n",
       "      <td>[우한폐렴]부산서도 의심 환자 발생…설 명절 맞아 입국 30대 여성</td>\n",
       "      <td>http://news1.kr/articles/?3826014</td>\n",
       "      <td>https://search.pstatic.net/common/?src=https%3...</td>\n",
       "      <td>4</td>\n",
       "      <td>image/4.png</td>\n",
       "    </tr>\n",
       "    <tr>\n",
       "      <td>5</td>\n",
       "      <td>조경태 \"우한 폐렴 이후 입국한 중국인 관광객 송환 조치해야\"</td>\n",
       "      <td>http://www.ohmynews.com/NWS_Web/View/at_pg.asp...</td>\n",
       "      <td>https://search.pstatic.net/common/?src=https%3...</td>\n",
       "      <td>5</td>\n",
       "      <td>image/5.png</td>\n",
       "    </tr>\n",
       "    <tr>\n",
       "      <td>6</td>\n",
       "      <td>설 연휴기간 부산서도 '우한 폐렴 의심환자' 발생</td>\n",
       "      <td>https://www.nocutnews.co.kr/news/5278954</td>\n",
       "      <td>https://search.pstatic.net/common/?src=https%3...</td>\n",
       "      <td>6</td>\n",
       "      <td>image/6.png</td>\n",
       "    </tr>\n",
       "    <tr>\n",
       "      <td>7</td>\n",
       "      <td>춘천ㆍ대구ㆍ부산서도 우한 코로나 ‘의심환자’ 발생</td>\n",
       "      <td>http://www.hankookilbo.com/news/npath/20200128...</td>\n",
       "      <td>https://search.pstatic.net/common/?src=https%3...</td>\n",
       "      <td>7</td>\n",
       "      <td>image/7.png</td>\n",
       "    </tr>\n",
       "    <tr>\n",
       "      <td>8</td>\n",
       "      <td>원주서 우한폐렴 의심환자 발생</td>\n",
       "      <td>http://www.busan.com/view/busan/view.php?code=...</td>\n",
       "      <td>https://search.pstatic.net/common/?src=https%3...</td>\n",
       "      <td>8</td>\n",
       "      <td>image/8.png</td>\n",
       "    </tr>\n",
       "    <tr>\n",
       "      <td>9</td>\n",
       "      <td>[우한폐렴]\"마스크 없어요?\" 귀경길 터미널 편의점마다 '텅비어'</td>\n",
       "      <td>http://news1.kr/articles/?3826017</td>\n",
       "      <td>https://search.pstatic.net/common/?src=https%3...</td>\n",
       "      <td>9</td>\n",
       "      <td>image/9.png</td>\n",
       "    </tr>\n",
       "  </tbody>\n",
       "</table>\n",
       "</div>"
      ],
      "text/plain": [
       "                                      title  \\\n",
       "0     부산 우한폐렴 의심 증상 30대 여성 역학 조사 결과 `음성 판정`   \n",
       "1  우한 폐렴 불안으로 중국행 줄줄이 취소…항공사들, 환불 수수료 면제해준다   \n",
       "2          ‘우한 폐렴’ 공포 확산... ‘양성·음성’ 뜻과 차이는?   \n",
       "3       우한 폐렴, 야생동물 시장서 시작...박쥐 먹은 블로거 '뭇매'   \n",
       "4     [우한폐렴]부산서도 의심 환자 발생…설 명절 맞아 입국 30대 여성   \n",
       "5        조경태 \"우한 폐렴 이후 입국한 중국인 관광객 송환 조치해야\"   \n",
       "6               설 연휴기간 부산서도 '우한 폐렴 의심환자' 발생   \n",
       "7               춘천ㆍ대구ㆍ부산서도 우한 코로나 ‘의심환자’ 발생   \n",
       "8                          원주서 우한폐렴 의심환자 발생   \n",
       "9      [우한폐렴]\"마스크 없어요?\" 귀경길 터미널 편의점마다 '텅비어'   \n",
       "\n",
       "                                                link  \\\n",
       "0  http://news.mk.co.kr/newsRead.php?no=85112&yea...   \n",
       "1               http://www.etnews.com/20200127000125   \n",
       "2  http://daily.hankooki.com/lpage/society/202001...   \n",
       "3  http://www.edaily.co.kr/news/newspath.asp?news...   \n",
       "4                  http://news1.kr/articles/?3826014   \n",
       "5  http://www.ohmynews.com/NWS_Web/View/at_pg.asp...   \n",
       "6           https://www.nocutnews.co.kr/news/5278954   \n",
       "7  http://www.hankookilbo.com/news/npath/20200128...   \n",
       "8  http://www.busan.com/view/busan/view.php?code=...   \n",
       "9                  http://news1.kr/articles/?3826017   \n",
       "\n",
       "                                                 img  id     img_path  \n",
       "0  https://search.pstatic.net/common/?src=https%3...   0  image/0.png  \n",
       "1  https://search.pstatic.net/common/?src=https%3...   1  image/1.png  \n",
       "2  https://search.pstatic.net/common/?src=https%3...   2  image/2.png  \n",
       "3  https://search.pstatic.net/common/?src=https%3...   3  image/3.png  \n",
       "4  https://search.pstatic.net/common/?src=https%3...   4  image/4.png  \n",
       "5  https://search.pstatic.net/common/?src=https%3...   5  image/5.png  \n",
       "6  https://search.pstatic.net/common/?src=https%3...   6  image/6.png  \n",
       "7  https://search.pstatic.net/common/?src=https%3...   7  image/7.png  \n",
       "8  https://search.pstatic.net/common/?src=https%3...   8  image/8.png  \n",
       "9  https://search.pstatic.net/common/?src=https%3...   9  image/9.png  "
      ]
     },
     "execution_count": 66,
     "metadata": {},
     "output_type": "execute_result"
    }
   ],
   "source": [
    "#\n",
    "filename= 'newslist.csv'\n",
    "new_df = pd.read_csv(filename, encoding='cp949', index_col=0)\n",
    "new_df"
   ]
  },
  {
   "cell_type": "code",
   "execution_count": 71,
   "metadata": {},
   "outputs": [
    {
     "data": {
      "text/html": [
       "<div>\n",
       "<style scoped>\n",
       "    .dataframe tbody tr th:only-of-type {\n",
       "        vertical-align: middle;\n",
       "    }\n",
       "\n",
       "    .dataframe tbody tr th {\n",
       "        vertical-align: top;\n",
       "    }\n",
       "\n",
       "    .dataframe thead th {\n",
       "        text-align: right;\n",
       "    }\n",
       "</style>\n",
       "<table border=\"1\" class=\"dataframe\">\n",
       "  <thead>\n",
       "    <tr style=\"text-align: right;\">\n",
       "      <th></th>\n",
       "      <th>Unnamed: 0</th>\n",
       "      <th>title</th>\n",
       "      <th>link</th>\n",
       "      <th>img</th>\n",
       "      <th>id</th>\n",
       "      <th>img_path</th>\n",
       "    </tr>\n",
       "  </thead>\n",
       "  <tbody>\n",
       "    <tr>\n",
       "      <td>0</td>\n",
       "      <td>0</td>\n",
       "      <td>부산 우한폐렴 의심 증상 30대 여성 역학 조사 결과 `음성 판정`</td>\n",
       "      <td>http://news.mk.co.kr/newsRead.php?no=85112&amp;yea...</td>\n",
       "      <td>https://search.pstatic.net/common/?src=https%3...</td>\n",
       "      <td>0</td>\n",
       "      <td>image/0.png</td>\n",
       "    </tr>\n",
       "    <tr>\n",
       "      <td>1</td>\n",
       "      <td>1</td>\n",
       "      <td>우한 폐렴 불안으로 중국행 줄줄이 취소…항공사들, 환불 수수료 면제해준다</td>\n",
       "      <td>http://www.etnews.com/20200127000125</td>\n",
       "      <td>https://search.pstatic.net/common/?src=https%3...</td>\n",
       "      <td>1</td>\n",
       "      <td>image/1.png</td>\n",
       "    </tr>\n",
       "    <tr>\n",
       "      <td>2</td>\n",
       "      <td>2</td>\n",
       "      <td>‘우한 폐렴’ 공포 확산... ‘양성·음성’ 뜻과 차이는?</td>\n",
       "      <td>http://daily.hankooki.com/lpage/society/202001...</td>\n",
       "      <td>https://search.pstatic.net/common/?src=https%3...</td>\n",
       "      <td>2</td>\n",
       "      <td>image/2.png</td>\n",
       "    </tr>\n",
       "    <tr>\n",
       "      <td>3</td>\n",
       "      <td>3</td>\n",
       "      <td>우한 폐렴, 야생동물 시장서 시작...박쥐 먹은 블로거 '뭇매'</td>\n",
       "      <td>http://www.edaily.co.kr/news/newspath.asp?news...</td>\n",
       "      <td>https://search.pstatic.net/common/?src=https%3...</td>\n",
       "      <td>3</td>\n",
       "      <td>image/3.png</td>\n",
       "    </tr>\n",
       "    <tr>\n",
       "      <td>4</td>\n",
       "      <td>4</td>\n",
       "      <td>[우한폐렴]부산서도 의심 환자 발생…설 명절 맞아 입국 30대 여성</td>\n",
       "      <td>http://news1.kr/articles/?3826014</td>\n",
       "      <td>https://search.pstatic.net/common/?src=https%3...</td>\n",
       "      <td>4</td>\n",
       "      <td>image/4.png</td>\n",
       "    </tr>\n",
       "    <tr>\n",
       "      <td>5</td>\n",
       "      <td>5</td>\n",
       "      <td>조경태 \"우한 폐렴 이후 입국한 중국인 관광객 송환 조치해야\"</td>\n",
       "      <td>http://www.ohmynews.com/NWS_Web/View/at_pg.asp...</td>\n",
       "      <td>https://search.pstatic.net/common/?src=https%3...</td>\n",
       "      <td>5</td>\n",
       "      <td>image/5.png</td>\n",
       "    </tr>\n",
       "    <tr>\n",
       "      <td>6</td>\n",
       "      <td>6</td>\n",
       "      <td>설 연휴기간 부산서도 '우한 폐렴 의심환자' 발생</td>\n",
       "      <td>https://www.nocutnews.co.kr/news/5278954</td>\n",
       "      <td>https://search.pstatic.net/common/?src=https%3...</td>\n",
       "      <td>6</td>\n",
       "      <td>image/6.png</td>\n",
       "    </tr>\n",
       "    <tr>\n",
       "      <td>7</td>\n",
       "      <td>7</td>\n",
       "      <td>춘천ㆍ대구ㆍ부산서도 우한 코로나 ‘의심환자’ 발생</td>\n",
       "      <td>http://www.hankookilbo.com/news/npath/20200128...</td>\n",
       "      <td>https://search.pstatic.net/common/?src=https%3...</td>\n",
       "      <td>7</td>\n",
       "      <td>image/7.png</td>\n",
       "    </tr>\n",
       "    <tr>\n",
       "      <td>8</td>\n",
       "      <td>8</td>\n",
       "      <td>원주서 우한폐렴 의심환자 발생</td>\n",
       "      <td>http://www.busan.com/view/busan/view.php?code=...</td>\n",
       "      <td>https://search.pstatic.net/common/?src=https%3...</td>\n",
       "      <td>8</td>\n",
       "      <td>image/8.png</td>\n",
       "    </tr>\n",
       "    <tr>\n",
       "      <td>9</td>\n",
       "      <td>9</td>\n",
       "      <td>[우한폐렴]\"마스크 없어요?\" 귀경길 터미널 편의점마다 '텅비어'</td>\n",
       "      <td>http://news1.kr/articles/?3826017</td>\n",
       "      <td>https://search.pstatic.net/common/?src=https%3...</td>\n",
       "      <td>9</td>\n",
       "      <td>image/9.png</td>\n",
       "    </tr>\n",
       "  </tbody>\n",
       "</table>\n",
       "</div>"
      ],
      "text/plain": [
       "   Unnamed: 0                                     title  \\\n",
       "0           0     부산 우한폐렴 의심 증상 30대 여성 역학 조사 결과 `음성 판정`   \n",
       "1           1  우한 폐렴 불안으로 중국행 줄줄이 취소…항공사들, 환불 수수료 면제해준다   \n",
       "2           2          ‘우한 폐렴’ 공포 확산... ‘양성·음성’ 뜻과 차이는?   \n",
       "3           3       우한 폐렴, 야생동물 시장서 시작...박쥐 먹은 블로거 '뭇매'   \n",
       "4           4     [우한폐렴]부산서도 의심 환자 발생…설 명절 맞아 입국 30대 여성   \n",
       "5           5        조경태 \"우한 폐렴 이후 입국한 중국인 관광객 송환 조치해야\"   \n",
       "6           6               설 연휴기간 부산서도 '우한 폐렴 의심환자' 발생   \n",
       "7           7               춘천ㆍ대구ㆍ부산서도 우한 코로나 ‘의심환자’ 발생   \n",
       "8           8                          원주서 우한폐렴 의심환자 발생   \n",
       "9           9      [우한폐렴]\"마스크 없어요?\" 귀경길 터미널 편의점마다 '텅비어'   \n",
       "\n",
       "                                                link  \\\n",
       "0  http://news.mk.co.kr/newsRead.php?no=85112&yea...   \n",
       "1               http://www.etnews.com/20200127000125   \n",
       "2  http://daily.hankooki.com/lpage/society/202001...   \n",
       "3  http://www.edaily.co.kr/news/newspath.asp?news...   \n",
       "4                  http://news1.kr/articles/?3826014   \n",
       "5  http://www.ohmynews.com/NWS_Web/View/at_pg.asp...   \n",
       "6           https://www.nocutnews.co.kr/news/5278954   \n",
       "7  http://www.hankookilbo.com/news/npath/20200128...   \n",
       "8  http://www.busan.com/view/busan/view.php?code=...   \n",
       "9                  http://news1.kr/articles/?3826017   \n",
       "\n",
       "                                                 img  id     img_path  \n",
       "0  https://search.pstatic.net/common/?src=https%3...   0  image/0.png  \n",
       "1  https://search.pstatic.net/common/?src=https%3...   1  image/1.png  \n",
       "2  https://search.pstatic.net/common/?src=https%3...   2  image/2.png  \n",
       "3  https://search.pstatic.net/common/?src=https%3...   3  image/3.png  \n",
       "4  https://search.pstatic.net/common/?src=https%3...   4  image/4.png  \n",
       "5  https://search.pstatic.net/common/?src=https%3...   5  image/5.png  \n",
       "6  https://search.pstatic.net/common/?src=https%3...   6  image/6.png  \n",
       "7  https://search.pstatic.net/common/?src=https%3...   7  image/7.png  \n",
       "8  https://search.pstatic.net/common/?src=https%3...   8  image/8.png  \n",
       "9  https://search.pstatic.net/common/?src=https%3...   9  image/9.png  "
      ]
     },
     "execution_count": 71,
     "metadata": {},
     "output_type": "execute_result"
    }
   ],
   "source": [
    "#\n",
    "filename= 'newslist.xlsx'\n",
    "new_df = pd.read_excel(filename, encoding='cp949')\n",
    "new_df"
   ]
  },
  {
   "cell_type": "code",
   "execution_count": null,
   "metadata": {},
   "outputs": [],
   "source": []
  }
 ],
 "metadata": {
  "kernelspec": {
   "display_name": "Python 3",
   "language": "python",
   "name": "python3"
  },
  "language_info": {
   "codemirror_mode": {
    "name": "ipython",
    "version": 3
   },
   "file_extension": ".py",
   "mimetype": "text/x-python",
   "name": "python",
   "nbconvert_exporter": "python",
   "pygments_lexer": "ipython3",
   "version": "3.7.4"
  }
 },
 "nbformat": 4,
 "nbformat_minor": 2
}
