{
 "cells": [
  {
   "cell_type": "code",
   "execution_count": 7,
   "metadata": {},
   "outputs": [
    {
     "ename": "SyntaxError",
     "evalue": "invalid syntax (<ipython-input-7-8c0b0a92a790>, line 9)",
     "output_type": "error",
     "traceback": [
      "\u001b[1;36m  File \u001b[1;32m\"<ipython-input-7-8c0b0a92a790>\"\u001b[1;36m, line \u001b[1;32m9\u001b[0m\n\u001b[1;33m    ()- 인덱싱으로 접근 가능하다 ,단 튜플은 값 수정이 불가능하다\u001b[0m\n\u001b[1;37m               ^\u001b[0m\n\u001b[1;31mSyntaxError\u001b[0m\u001b[1;31m:\u001b[0m invalid syntax\n"
     ]
    }
   ],
   "source": [
    "index\n",
    "upper \n",
    "lower\n",
    "replace\n",
    "count\n",
    "strip\n",
    "split\n",
    "[] \n",
    "()- 인덱싱으로 접근 가능하다 ,단 튜플은 값 수정이 불가능하다\n",
    "Ex). a = (1,)\n",
    "String 은 값의 전환이 안됨 Ex). a= 'abcde'\n",
    "                                b=[1,2,3,4,5]\n",
    "                                a[0] 는 a 임\n",
    "                                b[0]는 1임\n",
    "                                b[0] =2이면 적용되구\n",
    "                                단!!! a[0] = 'c' 는 적용안댐\n",
    " \n",
    "insert는 해당 인덱스에 값추가\n",
    "count는 특정 값의 개수 끌어내기\n",
    "\n",
    "딕셔너리 = {키 : 값, 키 : 값 ...}\n",
    "score = dict(name=\"tom\", math=80, english=70) 이렇게 쓰기도 함 \n",
    "\n",
    "키가 없는데 데이터 값을 가져오려고 할 때, get()을 사용하면 댐 - runtime error 를 미연에 방지하기 위해\n",
    "\n",
    "세트\n",
    "- 값의 중복이 없슴\n",
    "- Ex). a = {} 이것도 딕셔너리\n",
    "\n",
    "===================== 반복문======================\n",
    "if 에서\n",
    "elif 로 연결댐\n",
    "else 로 또 연결댐\n",
    "\n",
    "iterator : 어떤 것이건 상관없이 iter라는 함수가 존재하면, 그것이 iterator\n",
    "enumerate(리스트) : index를 붙여주는 함수\n"
   ]
  },
  {
   "cell_type": "code",
   "execution_count": 4,
   "metadata": {},
   "outputs": [],
   "source": [
    "a = {}"
   ]
  },
  {
   "cell_type": "code",
   "execution_count": 5,
   "metadata": {},
   "outputs": [
    {
     "data": {
      "text/plain": [
       "dict"
      ]
     },
     "execution_count": 5,
     "metadata": {},
     "output_type": "execute_result"
    }
   ],
   "source": [
    "type(a)"
   ]
  },
  {
   "cell_type": "code",
   "execution_count": 6,
   "metadata": {},
   "outputs": [],
   "source": [
    "a= 'abcde'"
   ]
  },
  {
   "cell_type": "code",
   "execution_count": null,
   "metadata": {},
   "outputs": [],
   "source": [
    "a."
   ]
  }
 ],
 "metadata": {
  "kernelspec": {
   "display_name": "Python 3",
   "language": "python",
   "name": "python3"
  },
  "language_info": {
   "codemirror_mode": {
    "name": "ipython",
    "version": 3
   },
   "file_extension": ".py",
   "mimetype": "text/x-python",
   "name": "python",
   "nbconvert_exporter": "python",
   "pygments_lexer": "ipython3",
   "version": "3.7.4"
  }
 },
 "nbformat": 4,
 "nbformat_minor": 2
}
