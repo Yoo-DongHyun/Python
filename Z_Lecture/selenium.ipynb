{
 "cells": [
  {
   "cell_type": "code",
   "execution_count": 1,
   "metadata": {},
   "outputs": [],
   "source": [
    "from selenium import webdriver"
   ]
  },
  {
   "cell_type": "code",
   "execution_count": 21,
   "metadata": {},
   "outputs": [],
   "source": [
    "driver = webdriver.Chrome('C:\\chromedriver.exe')\n",
    "\n",
    "# wait 줘서 해결하기\n",
    "driver.implicityly_wait(10) #답이 안오면 최대한 10초까지 기다릴게"
   ]
  },
  {
   "cell_type": "code",
   "execution_count": 5,
   "metadata": {},
   "outputs": [],
   "source": [
    "driver.maximize_window()"
   ]
  },
  {
   "cell_type": "code",
   "execution_count": 6,
   "metadata": {},
   "outputs": [],
   "source": [
    "driver.get('https://www.naver.com')"
   ]
  },
  {
   "cell_type": "code",
   "execution_count": 20,
   "metadata": {},
   "outputs": [],
   "source": [
    "#comic_elem = driver.find_element_by_class_name('mn_comic')\n",
    "#comic_elem\n",
    "\n",
    "#sleep 걸어서 브라우저 답 기다리기\n",
    "#from time import sleep\n",
    "#sleep(3)"
   ]
  },
  {
   "cell_type": "code",
   "execution_count": 8,
   "metadata": {},
   "outputs": [],
   "source": [
    "comic_elem.click()"
   ]
  },
  {
   "cell_type": "code",
   "execution_count": 10,
   "metadata": {},
   "outputs": [
    {
     "data": {
      "text/plain": [
       "<selenium.webdriver.remote.webelement.WebElement (session=\"416cdab67a17b1720e1119b6cc86b115\", element=\"ca25f27e-bb52-42d6-b167-148187b8e362\")>"
      ]
     },
     "execution_count": 10,
     "metadata": {},
     "output_type": "execute_result"
    }
   ],
   "source": [
    "comic_list = driver.find_element_by_id('genreRecommand')\n",
    "comic_list"
   ]
  },
  {
   "cell_type": "code",
   "execution_count": 16,
   "metadata": {},
   "outputs": [],
   "source": [
    "#comics = comic_list.find_elements_by_tag_name('li')\n",
    "comics = comic_list.find_elements_by_class_name('genreRecomInfo2')"
   ]
  },
  {
   "cell_type": "code",
   "execution_count": 17,
   "metadata": {},
   "outputs": [
    {
     "data": {
      "text/plain": [
       "[<selenium.webdriver.remote.webelement.WebElement (session=\"416cdab67a17b1720e1119b6cc86b115\", element=\"f02ab642-5af4-4c09-8daa-f8bac3c71717\")>,\n",
       " <selenium.webdriver.remote.webelement.WebElement (session=\"416cdab67a17b1720e1119b6cc86b115\", element=\"04138a31-024d-439c-95b8-5b08f567ea22\")>,\n",
       " <selenium.webdriver.remote.webelement.WebElement (session=\"416cdab67a17b1720e1119b6cc86b115\", element=\"bdd98c26-9624-45fa-9346-70a5f1560495\")>,\n",
       " <selenium.webdriver.remote.webelement.WebElement (session=\"416cdab67a17b1720e1119b6cc86b115\", element=\"da674396-8694-4253-9275-9776aa914859\")>,\n",
       " <selenium.webdriver.remote.webelement.WebElement (session=\"416cdab67a17b1720e1119b6cc86b115\", element=\"f0bf24f3-7761-437b-bbcf-092f38a9624a\")>,\n",
       " <selenium.webdriver.remote.webelement.WebElement (session=\"416cdab67a17b1720e1119b6cc86b115\", element=\"46e72691-5ec0-4788-8984-929d458d6bf1\")>]"
      ]
     },
     "execution_count": 17,
     "metadata": {},
     "output_type": "execute_result"
    }
   ],
   "source": [
    "comics"
   ]
  },
  {
   "cell_type": "code",
   "execution_count": 18,
   "metadata": {},
   "outputs": [
    {
     "data": {
      "text/plain": [
       "[{'link': 'https://comic.naver.com/webtoon/list.nhn?titleId=732071',\n",
       "  'title': '가령의 정체불명 이야기'},\n",
       " {'link': 'https://comic.naver.com/webtoon/list.nhn?titleId=21815',\n",
       "  'title': '히어로메이커'},\n",
       " {'link': 'https://comic.naver.com/webtoon/list.nhn?titleId=694946',\n",
       "  'title': '귀전구담'},\n",
       " {'link': 'https://comic.naver.com/webtoon/list.nhn?titleId=695796',\n",
       "  'title': '내일'},\n",
       " {'link': 'https://comic.naver.com/webtoon/list.nhn?titleId=22897',\n",
       "  'title': '호랭총각'},\n",
       " {'link': 'https://comic.naver.com/webtoon/list.nhn?titleId=729037',\n",
       "  'title': '호러전파상'}]"
      ]
     },
     "execution_count": 18,
     "metadata": {},
     "output_type": "execute_result"
    }
   ],
   "source": [
    "my_comic_list = []\n",
    "for comic in comics:\n",
    "    title_tag = comic.find_element_by_class_name('title')\n",
    "    title_a_tag = comic.find_element_by_tag_name('a')\n",
    "    \n",
    "    link = title_a_tag.get_attribute('href')\n",
    "    title = title_a_tag.text\n",
    "    my_comic_list.append({\n",
    "        'link' : link,\n",
    "        'title' : title\n",
    "    })\n",
    "my_comic_list"
   ]
  },
  {
   "cell_type": "code",
   "execution_count": null,
   "metadata": {},
   "outputs": [],
   "source": []
  },
  {
   "cell_type": "code",
   "execution_count": null,
   "metadata": {},
   "outputs": [],
   "source": []
  },
  {
   "cell_type": "code",
   "execution_count": null,
   "metadata": {},
   "outputs": [],
   "source": []
  },
  {
   "cell_type": "code",
   "execution_count": 24,
   "metadata": {},
   "outputs": [],
   "source": [
    "driver.get('https://www.naver.com')\n",
    "input_elem = driver.find_element_by_xpath('//*[@id=\"query\"]')"
   ]
  },
  {
   "cell_type": "code",
   "execution_count": 25,
   "metadata": {},
   "outputs": [],
   "source": [
    "input_elem.send_keys(\"펭수\")"
   ]
  },
  {
   "cell_type": "code",
   "execution_count": 26,
   "metadata": {},
   "outputs": [],
   "source": [
    "serach_button = driver.find_element_by_xpath('//*[@id=\"search_btn\"]')"
   ]
  },
  {
   "cell_type": "code",
   "execution_count": 27,
   "metadata": {},
   "outputs": [],
   "source": [
    "serach_button.click()"
   ]
  },
  {
   "cell_type": "code",
   "execution_count": null,
   "metadata": {},
   "outputs": [],
   "source": []
  }
 ],
 "metadata": {
  "kernelspec": {
   "display_name": "Python 3",
   "language": "python",
   "name": "python3"
  },
  "language_info": {
   "codemirror_mode": {
    "name": "ipython",
    "version": 3
   },
   "file_extension": ".py",
   "mimetype": "text/x-python",
   "name": "python",
   "nbconvert_exporter": "python",
   "pygments_lexer": "ipython3",
   "version": "3.7.6"
  }
 },
 "nbformat": 4,
 "nbformat_minor": 2
}
