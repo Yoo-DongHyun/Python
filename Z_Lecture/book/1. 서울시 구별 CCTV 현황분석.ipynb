{
 "cells": [
  {
   "cell_type": "code",
   "execution_count": 184,
   "metadata": {},
   "outputs": [],
   "source": [
    "import numpy as np\n",
    "import pandas as pd"
   ]
  },
  {
   "cell_type": "code",
   "execution_count": 185,
   "metadata": {},
   "outputs": [],
   "source": [
    "cctv_seoul = pd.read_excel('data/cctv_seoul.xlsx')"
   ]
  },
  {
   "cell_type": "code",
   "execution_count": 229,
   "metadata": {},
   "outputs": [
    {
     "data": {
      "text/html": [
       "<div>\n",
       "<style scoped>\n",
       "    .dataframe tbody tr th:only-of-type {\n",
       "        vertical-align: middle;\n",
       "    }\n",
       "\n",
       "    .dataframe tbody tr th {\n",
       "        vertical-align: top;\n",
       "    }\n",
       "\n",
       "    .dataframe thead th {\n",
       "        text-align: right;\n",
       "    }\n",
       "</style>\n",
       "<table border=\"1\" class=\"dataframe\">\n",
       "  <thead>\n",
       "    <tr style=\"text-align: right;\">\n",
       "      <th></th>\n",
       "      <th>구별</th>\n",
       "      <th>소계</th>\n",
       "      <th>2011년 이전</th>\n",
       "      <th>2012년</th>\n",
       "      <th>2013년</th>\n",
       "      <th>2014년</th>\n",
       "      <th>2015년</th>\n",
       "      <th>2016년</th>\n",
       "      <th>2017년</th>\n",
       "      <th>2018년</th>\n",
       "    </tr>\n",
       "  </thead>\n",
       "  <tbody>\n",
       "    <tr>\n",
       "      <th>0</th>\n",
       "      <td>강남구</td>\n",
       "      <td>5221</td>\n",
       "      <td>1944.0</td>\n",
       "      <td>195.0</td>\n",
       "      <td>316.0</td>\n",
       "      <td>430</td>\n",
       "      <td>546</td>\n",
       "      <td>765</td>\n",
       "      <td>577</td>\n",
       "      <td>448</td>\n",
       "    </tr>\n",
       "    <tr>\n",
       "      <th>1</th>\n",
       "      <td>강동구</td>\n",
       "      <td>1879</td>\n",
       "      <td>303.0</td>\n",
       "      <td>387.0</td>\n",
       "      <td>134.0</td>\n",
       "      <td>59</td>\n",
       "      <td>144</td>\n",
       "      <td>194</td>\n",
       "      <td>273</td>\n",
       "      <td>385</td>\n",
       "    </tr>\n",
       "    <tr>\n",
       "      <th>2</th>\n",
       "      <td>강북구</td>\n",
       "      <td>1265</td>\n",
       "      <td>243.0</td>\n",
       "      <td>88.0</td>\n",
       "      <td>141.0</td>\n",
       "      <td>74</td>\n",
       "      <td>145</td>\n",
       "      <td>254</td>\n",
       "      <td>1</td>\n",
       "      <td>319</td>\n",
       "    </tr>\n",
       "    <tr>\n",
       "      <th>3</th>\n",
       "      <td>강서구</td>\n",
       "      <td>1617</td>\n",
       "      <td>219.0</td>\n",
       "      <td>155.0</td>\n",
       "      <td>118.0</td>\n",
       "      <td>230</td>\n",
       "      <td>187</td>\n",
       "      <td>190</td>\n",
       "      <td>264</td>\n",
       "      <td>254</td>\n",
       "    </tr>\n",
       "    <tr>\n",
       "      <th>4</th>\n",
       "      <td>관악구</td>\n",
       "      <td>3985</td>\n",
       "      <td>430.0</td>\n",
       "      <td>56.0</td>\n",
       "      <td>419.0</td>\n",
       "      <td>487</td>\n",
       "      <td>609</td>\n",
       "      <td>619</td>\n",
       "      <td>694</td>\n",
       "      <td>671</td>\n",
       "    </tr>\n",
       "  </tbody>\n",
       "</table>\n",
       "</div>"
      ],
      "text/plain": [
       "    구별    소계  2011년 이전  2012년  2013년  2014년  2015년  2016년  2017년  2018년\n",
       "0  강남구  5221    1944.0  195.0  316.0    430    546    765    577    448\n",
       "1  강동구  1879     303.0  387.0  134.0     59    144    194    273    385\n",
       "2  강북구  1265     243.0   88.0  141.0     74    145    254      1    319\n",
       "3  강서구  1617     219.0  155.0  118.0    230    187    190    264    254\n",
       "4  관악구  3985     430.0   56.0  419.0    487    609    619    694    671"
      ]
     },
     "execution_count": 229,
     "metadata": {},
     "output_type": "execute_result"
    }
   ],
   "source": [
    "cctv_seoul.head()"
   ]
  },
  {
   "cell_type": "code",
   "execution_count": 232,
   "metadata": {},
   "outputs": [],
   "source": [
    "pop_seoul = pd.read_csv('data/population_seoul.txt', sep='\\t', header=2, thousands=\",\")"
   ]
  },
  {
   "cell_type": "code",
   "execution_count": 233,
   "metadata": {},
   "outputs": [
    {
     "data": {
      "text/html": [
       "<div>\n",
       "<style scoped>\n",
       "    .dataframe tbody tr th:only-of-type {\n",
       "        vertical-align: middle;\n",
       "    }\n",
       "\n",
       "    .dataframe tbody tr th {\n",
       "        vertical-align: top;\n",
       "    }\n",
       "\n",
       "    .dataframe thead th {\n",
       "        text-align: right;\n",
       "    }\n",
       "</style>\n",
       "<table border=\"1\" class=\"dataframe\">\n",
       "  <thead>\n",
       "    <tr style=\"text-align: right;\">\n",
       "      <th></th>\n",
       "      <th>기간</th>\n",
       "      <th>자치구</th>\n",
       "      <th>세대</th>\n",
       "      <th>계</th>\n",
       "      <th>남자</th>\n",
       "      <th>여자</th>\n",
       "      <th>계.1</th>\n",
       "      <th>남자.1</th>\n",
       "      <th>여자.1</th>\n",
       "      <th>계.2</th>\n",
       "      <th>남자.2</th>\n",
       "      <th>여자.2</th>\n",
       "      <th>세대당인구</th>\n",
       "      <th>65세이상고령자</th>\n",
       "    </tr>\n",
       "  </thead>\n",
       "  <tbody>\n",
       "    <tr>\n",
       "      <th>0</th>\n",
       "      <td>2019.3/4</td>\n",
       "      <td>합계</td>\n",
       "      <td>4315921</td>\n",
       "      <td>10025927</td>\n",
       "      <td>4887068</td>\n",
       "      <td>5138859</td>\n",
       "      <td>9740398</td>\n",
       "      <td>4751696</td>\n",
       "      <td>4988702</td>\n",
       "      <td>285529</td>\n",
       "      <td>135372</td>\n",
       "      <td>150157</td>\n",
       "      <td>2.26</td>\n",
       "      <td>1468146</td>\n",
       "    </tr>\n",
       "    <tr>\n",
       "      <th>1</th>\n",
       "      <td>2019.3/4</td>\n",
       "      <td>종로구</td>\n",
       "      <td>73942</td>\n",
       "      <td>162860</td>\n",
       "      <td>78523</td>\n",
       "      <td>84337</td>\n",
       "      <td>151767</td>\n",
       "      <td>73952</td>\n",
       "      <td>77815</td>\n",
       "      <td>11093</td>\n",
       "      <td>4571</td>\n",
       "      <td>6522</td>\n",
       "      <td>2.05</td>\n",
       "      <td>27394</td>\n",
       "    </tr>\n",
       "    <tr>\n",
       "      <th>2</th>\n",
       "      <td>2019.3/4</td>\n",
       "      <td>중구</td>\n",
       "      <td>62593</td>\n",
       "      <td>136663</td>\n",
       "      <td>67030</td>\n",
       "      <td>69633</td>\n",
       "      <td>126409</td>\n",
       "      <td>62161</td>\n",
       "      <td>64248</td>\n",
       "      <td>10254</td>\n",
       "      <td>4869</td>\n",
       "      <td>5385</td>\n",
       "      <td>2.02</td>\n",
       "      <td>23025</td>\n",
       "    </tr>\n",
       "    <tr>\n",
       "      <th>3</th>\n",
       "      <td>2019.3/4</td>\n",
       "      <td>용산구</td>\n",
       "      <td>109911</td>\n",
       "      <td>244989</td>\n",
       "      <td>119499</td>\n",
       "      <td>125490</td>\n",
       "      <td>228830</td>\n",
       "      <td>110478</td>\n",
       "      <td>118352</td>\n",
       "      <td>16159</td>\n",
       "      <td>9021</td>\n",
       "      <td>7138</td>\n",
       "      <td>2.08</td>\n",
       "      <td>38531</td>\n",
       "    </tr>\n",
       "    <tr>\n",
       "      <th>4</th>\n",
       "      <td>2019.3/4</td>\n",
       "      <td>성동구</td>\n",
       "      <td>136466</td>\n",
       "      <td>311290</td>\n",
       "      <td>152134</td>\n",
       "      <td>159156</td>\n",
       "      <td>303158</td>\n",
       "      <td>148510</td>\n",
       "      <td>154648</td>\n",
       "      <td>8132</td>\n",
       "      <td>3624</td>\n",
       "      <td>4508</td>\n",
       "      <td>2.22</td>\n",
       "      <td>43662</td>\n",
       "    </tr>\n",
       "  </tbody>\n",
       "</table>\n",
       "</div>"
      ],
      "text/plain": [
       "         기간  자치구       세대         계       남자       여자      계.1     남자.1  \\\n",
       "0  2019.3/4   합계  4315921  10025927  4887068  5138859  9740398  4751696   \n",
       "1  2019.3/4  종로구    73942    162860    78523    84337   151767    73952   \n",
       "2  2019.3/4   중구    62593    136663    67030    69633   126409    62161   \n",
       "3  2019.3/4  용산구   109911    244989   119499   125490   228830   110478   \n",
       "4  2019.3/4  성동구   136466    311290   152134   159156   303158   148510   \n",
       "\n",
       "      여자.1     계.2    남자.2    여자.2  세대당인구  65세이상고령자  \n",
       "0  4988702  285529  135372  150157   2.26   1468146  \n",
       "1    77815   11093    4571    6522   2.05     27394  \n",
       "2    64248   10254    4869    5385   2.02     23025  \n",
       "3   118352   16159    9021    7138   2.08     38531  \n",
       "4   154648    8132    3624    4508   2.22     43662  "
      ]
     },
     "execution_count": 233,
     "metadata": {},
     "output_type": "execute_result"
    }
   ],
   "source": [
    "pop_seoul.head()"
   ]
  },
  {
   "cell_type": "code",
   "execution_count": 234,
   "metadata": {},
   "outputs": [
    {
     "data": {
      "text/html": [
       "<div>\n",
       "<style scoped>\n",
       "    .dataframe tbody tr th:only-of-type {\n",
       "        vertical-align: middle;\n",
       "    }\n",
       "\n",
       "    .dataframe tbody tr th {\n",
       "        vertical-align: top;\n",
       "    }\n",
       "\n",
       "    .dataframe thead th {\n",
       "        text-align: right;\n",
       "    }\n",
       "</style>\n",
       "<table border=\"1\" class=\"dataframe\">\n",
       "  <thead>\n",
       "    <tr style=\"text-align: right;\">\n",
       "      <th></th>\n",
       "      <th>기간</th>\n",
       "      <th>구별</th>\n",
       "      <th>세대</th>\n",
       "      <th>계</th>\n",
       "      <th>남자</th>\n",
       "      <th>여자</th>\n",
       "      <th>계.1</th>\n",
       "      <th>남자.1</th>\n",
       "      <th>여자.1</th>\n",
       "      <th>계.2</th>\n",
       "      <th>남자.2</th>\n",
       "      <th>여자.2</th>\n",
       "      <th>세대당인구</th>\n",
       "      <th>65세이상고령자</th>\n",
       "    </tr>\n",
       "  </thead>\n",
       "  <tbody>\n",
       "    <tr>\n",
       "      <th>0</th>\n",
       "      <td>2019.3/4</td>\n",
       "      <td>합계</td>\n",
       "      <td>4315921</td>\n",
       "      <td>10025927</td>\n",
       "      <td>4887068</td>\n",
       "      <td>5138859</td>\n",
       "      <td>9740398</td>\n",
       "      <td>4751696</td>\n",
       "      <td>4988702</td>\n",
       "      <td>285529</td>\n",
       "      <td>135372</td>\n",
       "      <td>150157</td>\n",
       "      <td>2.26</td>\n",
       "      <td>1468146</td>\n",
       "    </tr>\n",
       "    <tr>\n",
       "      <th>1</th>\n",
       "      <td>2019.3/4</td>\n",
       "      <td>종로구</td>\n",
       "      <td>73942</td>\n",
       "      <td>162860</td>\n",
       "      <td>78523</td>\n",
       "      <td>84337</td>\n",
       "      <td>151767</td>\n",
       "      <td>73952</td>\n",
       "      <td>77815</td>\n",
       "      <td>11093</td>\n",
       "      <td>4571</td>\n",
       "      <td>6522</td>\n",
       "      <td>2.05</td>\n",
       "      <td>27394</td>\n",
       "    </tr>\n",
       "  </tbody>\n",
       "</table>\n",
       "</div>"
      ],
      "text/plain": [
       "         기간   구별       세대         계       남자       여자      계.1     남자.1  \\\n",
       "0  2019.3/4   합계  4315921  10025927  4887068  5138859  9740398  4751696   \n",
       "1  2019.3/4  종로구    73942    162860    78523    84337   151767    73952   \n",
       "\n",
       "      여자.1     계.2    남자.2    여자.2  세대당인구  65세이상고령자  \n",
       "0  4988702  285529  135372  150157   2.26   1468146  \n",
       "1    77815   11093    4571    6522   2.05     27394  "
      ]
     },
     "execution_count": 234,
     "metadata": {},
     "output_type": "execute_result"
    }
   ],
   "source": [
    "# pop_seoul = pop_seoul.rename(columns={pop_seoul.columns[1]: '구별'})\n",
    "pop_seoul.rename(columns={pop_seoul.columns[1]: '구별'}, inplace=True)\n",
    "pop_seoul.head(2)"
   ]
  },
  {
   "cell_type": "code",
   "execution_count": 235,
   "metadata": {},
   "outputs": [
    {
     "data": {
      "text/html": [
       "<div>\n",
       "<style scoped>\n",
       "    .dataframe tbody tr th:only-of-type {\n",
       "        vertical-align: middle;\n",
       "    }\n",
       "\n",
       "    .dataframe tbody tr th {\n",
       "        vertical-align: top;\n",
       "    }\n",
       "\n",
       "    .dataframe thead th {\n",
       "        text-align: right;\n",
       "    }\n",
       "</style>\n",
       "<table border=\"1\" class=\"dataframe\">\n",
       "  <thead>\n",
       "    <tr style=\"text-align: right;\">\n",
       "      <th></th>\n",
       "      <th>기간</th>\n",
       "      <th>구별</th>\n",
       "      <th>세대</th>\n",
       "      <th>계</th>\n",
       "      <th>남자</th>\n",
       "      <th>여자</th>\n",
       "      <th>계.1</th>\n",
       "      <th>남자.1</th>\n",
       "      <th>여자.1</th>\n",
       "      <th>계.2</th>\n",
       "      <th>남자.2</th>\n",
       "      <th>여자.2</th>\n",
       "      <th>세대당인구</th>\n",
       "      <th>65세이상고령자</th>\n",
       "    </tr>\n",
       "  </thead>\n",
       "  <tbody>\n",
       "    <tr>\n",
       "      <th>0</th>\n",
       "      <td>2019.3/4</td>\n",
       "      <td>합계</td>\n",
       "      <td>4315921</td>\n",
       "      <td>10025927</td>\n",
       "      <td>4887068</td>\n",
       "      <td>5138859</td>\n",
       "      <td>9740398</td>\n",
       "      <td>4751696</td>\n",
       "      <td>4988702</td>\n",
       "      <td>285529</td>\n",
       "      <td>135372</td>\n",
       "      <td>150157</td>\n",
       "      <td>2.26</td>\n",
       "      <td>1468146</td>\n",
       "    </tr>\n",
       "    <tr>\n",
       "      <th>1</th>\n",
       "      <td>2019.3/4</td>\n",
       "      <td>종로구</td>\n",
       "      <td>73942</td>\n",
       "      <td>162860</td>\n",
       "      <td>78523</td>\n",
       "      <td>84337</td>\n",
       "      <td>151767</td>\n",
       "      <td>73952</td>\n",
       "      <td>77815</td>\n",
       "      <td>11093</td>\n",
       "      <td>4571</td>\n",
       "      <td>6522</td>\n",
       "      <td>2.05</td>\n",
       "      <td>27394</td>\n",
       "    </tr>\n",
       "  </tbody>\n",
       "</table>\n",
       "</div>"
      ],
      "text/plain": [
       "         기간   구별       세대         계       남자       여자      계.1     남자.1  \\\n",
       "0  2019.3/4   합계  4315921  10025927  4887068  5138859  9740398  4751696   \n",
       "1  2019.3/4  종로구    73942    162860    78523    84337   151767    73952   \n",
       "\n",
       "      여자.1     계.2    남자.2    여자.2  세대당인구  65세이상고령자  \n",
       "0  4988702  285529  135372  150157   2.26   1468146  \n",
       "1    77815   11093    4571    6522   2.05     27394  "
      ]
     },
     "execution_count": 235,
     "metadata": {},
     "output_type": "execute_result"
    }
   ],
   "source": [
    "pop_seoul.head(2)"
   ]
  },
  {
   "cell_type": "code",
   "execution_count": 236,
   "metadata": {},
   "outputs": [
    {
     "data": {
      "text/html": [
       "<div>\n",
       "<style scoped>\n",
       "    .dataframe tbody tr th:only-of-type {\n",
       "        vertical-align: middle;\n",
       "    }\n",
       "\n",
       "    .dataframe tbody tr th {\n",
       "        vertical-align: top;\n",
       "    }\n",
       "\n",
       "    .dataframe thead th {\n",
       "        text-align: right;\n",
       "    }\n",
       "</style>\n",
       "<table border=\"1\" class=\"dataframe\">\n",
       "  <thead>\n",
       "    <tr style=\"text-align: right;\">\n",
       "      <th></th>\n",
       "      <th>구별</th>\n",
       "      <th>소계</th>\n",
       "      <th>2011년 이전</th>\n",
       "      <th>2012년</th>\n",
       "      <th>2013년</th>\n",
       "      <th>2014년</th>\n",
       "      <th>2015년</th>\n",
       "      <th>2016년</th>\n",
       "      <th>2017년</th>\n",
       "      <th>2018년</th>\n",
       "    </tr>\n",
       "  </thead>\n",
       "  <tbody>\n",
       "    <tr>\n",
       "      <th>0</th>\n",
       "      <td>강남구</td>\n",
       "      <td>5221</td>\n",
       "      <td>1944.0</td>\n",
       "      <td>195.0</td>\n",
       "      <td>316.0</td>\n",
       "      <td>430</td>\n",
       "      <td>546</td>\n",
       "      <td>765</td>\n",
       "      <td>577</td>\n",
       "      <td>448</td>\n",
       "    </tr>\n",
       "    <tr>\n",
       "      <th>1</th>\n",
       "      <td>강동구</td>\n",
       "      <td>1879</td>\n",
       "      <td>303.0</td>\n",
       "      <td>387.0</td>\n",
       "      <td>134.0</td>\n",
       "      <td>59</td>\n",
       "      <td>144</td>\n",
       "      <td>194</td>\n",
       "      <td>273</td>\n",
       "      <td>385</td>\n",
       "    </tr>\n",
       "  </tbody>\n",
       "</table>\n",
       "</div>"
      ],
      "text/plain": [
       "    구별    소계  2011년 이전  2012년  2013년  2014년  2015년  2016년  2017년  2018년\n",
       "0  강남구  5221    1944.0  195.0  316.0    430    546    765    577    448\n",
       "1  강동구  1879     303.0  387.0  134.0     59    144    194    273    385"
      ]
     },
     "execution_count": 236,
     "metadata": {},
     "output_type": "execute_result"
    }
   ],
   "source": [
    "columnnames = list(cctv_seoul.columns)\n",
    "columnnames[0] = '구별'\n",
    "cctv_seoul.columns = columnnames\n",
    "cctv_seoul.head(2)"
   ]
  },
  {
   "cell_type": "code",
   "execution_count": 237,
   "metadata": {},
   "outputs": [
    {
     "data": {
      "text/plain": [
       "'강동구'"
      ]
     },
     "execution_count": 237,
     "metadata": {},
     "output_type": "execute_result"
    }
   ],
   "source": [
    "cctv_seoul['구별'][1]"
   ]
  },
  {
   "cell_type": "code",
   "execution_count": 238,
   "metadata": {
    "scrolled": true
   },
   "outputs": [
    {
     "data": {
      "text/plain": [
       "'종로구'"
      ]
     },
     "execution_count": 238,
     "metadata": {},
     "output_type": "execute_result"
    }
   ],
   "source": [
    "pop_seoul['구별'][1]"
   ]
  },
  {
   "cell_type": "code",
   "execution_count": 239,
   "metadata": {},
   "outputs": [],
   "source": [
    "def delete_space(x):\n",
    "    new_str = \"\"\n",
    "    \n",
    "    for i in x:\n",
    "        if not i == ' ':\n",
    "            new_str +=i\n",
    "            \n",
    "    return new_str\n"
   ]
  },
  {
   "cell_type": "code",
   "execution_count": 240,
   "metadata": {},
   "outputs": [],
   "source": [
    "cctv_seoul['구별'].apply(lambda x:x.replace(\" \", \"\"))\n",
    "cctv_seoul['구별'].apply(delete_space)\n",
    "cctv_seoul['구별'] = \\\n",
    "    cctv_seoul['구별'].apply(lambda x: \"\".join(x.split(\" \")))"
   ]
  },
  {
   "cell_type": "code",
   "execution_count": 241,
   "metadata": {},
   "outputs": [
    {
     "data": {
      "text/html": [
       "<div>\n",
       "<style scoped>\n",
       "    .dataframe tbody tr th:only-of-type {\n",
       "        vertical-align: middle;\n",
       "    }\n",
       "\n",
       "    .dataframe tbody tr th {\n",
       "        vertical-align: top;\n",
       "    }\n",
       "\n",
       "    .dataframe thead th {\n",
       "        text-align: right;\n",
       "    }\n",
       "</style>\n",
       "<table border=\"1\" class=\"dataframe\">\n",
       "  <thead>\n",
       "    <tr style=\"text-align: right;\">\n",
       "      <th></th>\n",
       "      <th>구별</th>\n",
       "      <th>소계</th>\n",
       "      <th>2011년 이전</th>\n",
       "      <th>2012년</th>\n",
       "      <th>2013년</th>\n",
       "      <th>2014년</th>\n",
       "      <th>2015년</th>\n",
       "      <th>2016년</th>\n",
       "      <th>2017년</th>\n",
       "      <th>2018년</th>\n",
       "    </tr>\n",
       "  </thead>\n",
       "  <tbody>\n",
       "    <tr>\n",
       "      <th>0</th>\n",
       "      <td>강남구</td>\n",
       "      <td>5221</td>\n",
       "      <td>1944.0</td>\n",
       "      <td>195.0</td>\n",
       "      <td>316.0</td>\n",
       "      <td>430</td>\n",
       "      <td>546</td>\n",
       "      <td>765</td>\n",
       "      <td>577</td>\n",
       "      <td>448</td>\n",
       "    </tr>\n",
       "    <tr>\n",
       "      <th>1</th>\n",
       "      <td>강동구</td>\n",
       "      <td>1879</td>\n",
       "      <td>303.0</td>\n",
       "      <td>387.0</td>\n",
       "      <td>134.0</td>\n",
       "      <td>59</td>\n",
       "      <td>144</td>\n",
       "      <td>194</td>\n",
       "      <td>273</td>\n",
       "      <td>385</td>\n",
       "    </tr>\n",
       "    <tr>\n",
       "      <th>2</th>\n",
       "      <td>강북구</td>\n",
       "      <td>1265</td>\n",
       "      <td>243.0</td>\n",
       "      <td>88.0</td>\n",
       "      <td>141.0</td>\n",
       "      <td>74</td>\n",
       "      <td>145</td>\n",
       "      <td>254</td>\n",
       "      <td>1</td>\n",
       "      <td>319</td>\n",
       "    </tr>\n",
       "    <tr>\n",
       "      <th>3</th>\n",
       "      <td>강서구</td>\n",
       "      <td>1617</td>\n",
       "      <td>219.0</td>\n",
       "      <td>155.0</td>\n",
       "      <td>118.0</td>\n",
       "      <td>230</td>\n",
       "      <td>187</td>\n",
       "      <td>190</td>\n",
       "      <td>264</td>\n",
       "      <td>254</td>\n",
       "    </tr>\n",
       "    <tr>\n",
       "      <th>4</th>\n",
       "      <td>관악구</td>\n",
       "      <td>3985</td>\n",
       "      <td>430.0</td>\n",
       "      <td>56.0</td>\n",
       "      <td>419.0</td>\n",
       "      <td>487</td>\n",
       "      <td>609</td>\n",
       "      <td>619</td>\n",
       "      <td>694</td>\n",
       "      <td>671</td>\n",
       "    </tr>\n",
       "  </tbody>\n",
       "</table>\n",
       "</div>"
      ],
      "text/plain": [
       "    구별    소계  2011년 이전  2012년  2013년  2014년  2015년  2016년  2017년  2018년\n",
       "0  강남구  5221    1944.0  195.0  316.0    430    546    765    577    448\n",
       "1  강동구  1879     303.0  387.0  134.0     59    144    194    273    385\n",
       "2  강북구  1265     243.0   88.0  141.0     74    145    254      1    319\n",
       "3  강서구  1617     219.0  155.0  118.0    230    187    190    264    254\n",
       "4  관악구  3985     430.0   56.0  419.0    487    609    619    694    671"
      ]
     },
     "execution_count": 241,
     "metadata": {},
     "output_type": "execute_result"
    }
   ],
   "source": [
    "cctv_seoul.head()"
   ]
  },
  {
   "cell_type": "code",
   "execution_count": 242,
   "metadata": {},
   "outputs": [
    {
     "data": {
      "text/html": [
       "<div>\n",
       "<style scoped>\n",
       "    .dataframe tbody tr th:only-of-type {\n",
       "        vertical-align: middle;\n",
       "    }\n",
       "\n",
       "    .dataframe tbody tr th {\n",
       "        vertical-align: top;\n",
       "    }\n",
       "\n",
       "    .dataframe thead th {\n",
       "        text-align: right;\n",
       "    }\n",
       "</style>\n",
       "<table border=\"1\" class=\"dataframe\">\n",
       "  <thead>\n",
       "    <tr style=\"text-align: right;\">\n",
       "      <th></th>\n",
       "      <th>구별</th>\n",
       "      <th>계</th>\n",
       "      <th>계.1</th>\n",
       "      <th>계.2</th>\n",
       "      <th>65세이상고령자</th>\n",
       "    </tr>\n",
       "  </thead>\n",
       "  <tbody>\n",
       "    <tr>\n",
       "      <th>0</th>\n",
       "      <td>합계</td>\n",
       "      <td>10025927</td>\n",
       "      <td>9740398</td>\n",
       "      <td>285529</td>\n",
       "      <td>1468146</td>\n",
       "    </tr>\n",
       "    <tr>\n",
       "      <th>1</th>\n",
       "      <td>종로구</td>\n",
       "      <td>162860</td>\n",
       "      <td>151767</td>\n",
       "      <td>11093</td>\n",
       "      <td>27394</td>\n",
       "    </tr>\n",
       "    <tr>\n",
       "      <th>2</th>\n",
       "      <td>중구</td>\n",
       "      <td>136663</td>\n",
       "      <td>126409</td>\n",
       "      <td>10254</td>\n",
       "      <td>23025</td>\n",
       "    </tr>\n",
       "    <tr>\n",
       "      <th>3</th>\n",
       "      <td>용산구</td>\n",
       "      <td>244989</td>\n",
       "      <td>228830</td>\n",
       "      <td>16159</td>\n",
       "      <td>38531</td>\n",
       "    </tr>\n",
       "    <tr>\n",
       "      <th>4</th>\n",
       "      <td>성동구</td>\n",
       "      <td>311290</td>\n",
       "      <td>303158</td>\n",
       "      <td>8132</td>\n",
       "      <td>43662</td>\n",
       "    </tr>\n",
       "  </tbody>\n",
       "</table>\n",
       "</div>"
      ],
      "text/plain": [
       "    구별         계      계.1     계.2  65세이상고령자\n",
       "0   합계  10025927  9740398  285529   1468146\n",
       "1  종로구    162860   151767   11093     27394\n",
       "2   중구    136663   126409   10254     23025\n",
       "3  용산구    244989   228830   16159     38531\n",
       "4  성동구    311290   303158    8132     43662"
      ]
     },
     "execution_count": 242,
     "metadata": {},
     "output_type": "execute_result"
    }
   ],
   "source": [
    "pop_seoul = pop_seoul[[\"구별\", \"계\", \"계.1\", \"계.2\", \"65세이상고령자\"]]\n",
    "pop_seoul.head()"
   ]
  },
  {
   "cell_type": "code",
   "execution_count": 243,
   "metadata": {},
   "outputs": [
    {
     "data": {
      "text/html": [
       "<div>\n",
       "<style scoped>\n",
       "    .dataframe tbody tr th:only-of-type {\n",
       "        vertical-align: middle;\n",
       "    }\n",
       "\n",
       "    .dataframe tbody tr th {\n",
       "        vertical-align: top;\n",
       "    }\n",
       "\n",
       "    .dataframe thead th {\n",
       "        text-align: right;\n",
       "    }\n",
       "</style>\n",
       "<table border=\"1\" class=\"dataframe\">\n",
       "  <thead>\n",
       "    <tr style=\"text-align: right;\">\n",
       "      <th></th>\n",
       "      <th>구별</th>\n",
       "      <th>인구수</th>\n",
       "      <th>한국인</th>\n",
       "      <th>외국인</th>\n",
       "      <th>고령자</th>\n",
       "    </tr>\n",
       "  </thead>\n",
       "  <tbody>\n",
       "    <tr>\n",
       "      <th>0</th>\n",
       "      <td>합계</td>\n",
       "      <td>10025927</td>\n",
       "      <td>9740398</td>\n",
       "      <td>285529</td>\n",
       "      <td>1468146</td>\n",
       "    </tr>\n",
       "    <tr>\n",
       "      <th>1</th>\n",
       "      <td>종로구</td>\n",
       "      <td>162860</td>\n",
       "      <td>151767</td>\n",
       "      <td>11093</td>\n",
       "      <td>27394</td>\n",
       "    </tr>\n",
       "  </tbody>\n",
       "</table>\n",
       "</div>"
      ],
      "text/plain": [
       "    구별       인구수      한국인     외국인      고령자\n",
       "0   합계  10025927  9740398  285529  1468146\n",
       "1  종로구    162860   151767   11093    27394"
      ]
     },
     "execution_count": 243,
     "metadata": {},
     "output_type": "execute_result"
    }
   ],
   "source": [
    "pop_columns = [\"구별\", \"인구수\", \"한국인\", \"외국인\", \"고령자\"]\n",
    "pop_seoul.columns = pop_columns\n",
    "pop_seoul.head(2)"
   ]
  },
  {
   "cell_type": "code",
   "execution_count": 244,
   "metadata": {},
   "outputs": [
    {
     "name": "stdout",
     "output_type": "stream",
     "text": [
      "<class 'pandas.core.frame.DataFrame'>\n",
      "RangeIndex: 25 entries, 0 to 24\n",
      "Data columns (total 10 columns):\n",
      "구별          25 non-null object\n",
      "소계          25 non-null int64\n",
      "2011년 이전    23 non-null float64\n",
      "2012년       23 non-null float64\n",
      "2013년       23 non-null float64\n",
      "2014년       25 non-null int64\n",
      "2015년       25 non-null int64\n",
      "2016년       25 non-null int64\n",
      "2017년       25 non-null int64\n",
      "2018년       25 non-null int64\n",
      "dtypes: float64(3), int64(6), object(1)\n",
      "memory usage: 2.1+ KB\n"
     ]
    }
   ],
   "source": [
    "cctv_seoul.info()"
   ]
  },
  {
   "cell_type": "code",
   "execution_count": 245,
   "metadata": {},
   "outputs": [
    {
     "data": {
      "text/html": [
       "<div>\n",
       "<style scoped>\n",
       "    .dataframe tbody tr th:only-of-type {\n",
       "        vertical-align: middle;\n",
       "    }\n",
       "\n",
       "    .dataframe tbody tr th {\n",
       "        vertical-align: top;\n",
       "    }\n",
       "\n",
       "    .dataframe thead th {\n",
       "        text-align: right;\n",
       "    }\n",
       "</style>\n",
       "<table border=\"1\" class=\"dataframe\">\n",
       "  <thead>\n",
       "    <tr style=\"text-align: right;\">\n",
       "      <th></th>\n",
       "      <th>구별</th>\n",
       "      <th>인구수</th>\n",
       "      <th>한국인</th>\n",
       "      <th>외국인</th>\n",
       "      <th>고령자</th>\n",
       "    </tr>\n",
       "  </thead>\n",
       "  <tbody>\n",
       "    <tr>\n",
       "      <th>0</th>\n",
       "      <td>합계</td>\n",
       "      <td>10025927</td>\n",
       "      <td>9740398</td>\n",
       "      <td>285529</td>\n",
       "      <td>1468146</td>\n",
       "    </tr>\n",
       "    <tr>\n",
       "      <th>1</th>\n",
       "      <td>종로구</td>\n",
       "      <td>162860</td>\n",
       "      <td>151767</td>\n",
       "      <td>11093</td>\n",
       "      <td>27394</td>\n",
       "    </tr>\n",
       "    <tr>\n",
       "      <th>2</th>\n",
       "      <td>중구</td>\n",
       "      <td>136663</td>\n",
       "      <td>126409</td>\n",
       "      <td>10254</td>\n",
       "      <td>23025</td>\n",
       "    </tr>\n",
       "    <tr>\n",
       "      <th>3</th>\n",
       "      <td>용산구</td>\n",
       "      <td>244989</td>\n",
       "      <td>228830</td>\n",
       "      <td>16159</td>\n",
       "      <td>38531</td>\n",
       "    </tr>\n",
       "    <tr>\n",
       "      <th>4</th>\n",
       "      <td>성동구</td>\n",
       "      <td>311290</td>\n",
       "      <td>303158</td>\n",
       "      <td>8132</td>\n",
       "      <td>43662</td>\n",
       "    </tr>\n",
       "  </tbody>\n",
       "</table>\n",
       "</div>"
      ],
      "text/plain": [
       "    구별       인구수      한국인     외국인      고령자\n",
       "0   합계  10025927  9740398  285529  1468146\n",
       "1  종로구    162860   151767   11093    27394\n",
       "2   중구    136663   126409   10254    23025\n",
       "3  용산구    244989   228830   16159    38531\n",
       "4  성동구    311290   303158    8132    43662"
      ]
     },
     "execution_count": 245,
     "metadata": {},
     "output_type": "execute_result"
    }
   ],
   "source": [
    "pop_seoul.head()"
   ]
  },
  {
   "cell_type": "code",
   "execution_count": 248,
   "metadata": {},
   "outputs": [
    {
     "name": "stdout",
     "output_type": "stream",
     "text": [
      "<class 'pandas.core.frame.DataFrame'>\n",
      "RangeIndex: 26 entries, 0 to 25\n",
      "Data columns (total 5 columns):\n",
      "구별     26 non-null object\n",
      "인구수    26 non-null int64\n",
      "한국인    26 non-null int64\n",
      "외국인    26 non-null int64\n",
      "고령자    26 non-null int64\n",
      "dtypes: int64(4), object(1)\n",
      "memory usage: 1.1+ KB\n"
     ]
    }
   ],
   "source": [
    "pop_seoul.info()"
   ]
  },
  {
   "cell_type": "code",
   "execution_count": 250,
   "metadata": {},
   "outputs": [
    {
     "name": "stdout",
     "output_type": "stream",
     "text": [
      "<class 'pandas.core.frame.DataFrame'>\n",
      "RangeIndex: 25 entries, 0 to 24\n",
      "Data columns (total 10 columns):\n",
      "구별          25 non-null object\n",
      "소계          25 non-null int64\n",
      "2011년 이전    23 non-null float64\n",
      "2012년       23 non-null float64\n",
      "2013년       23 non-null float64\n",
      "2014년       25 non-null int64\n",
      "2015년       25 non-null int64\n",
      "2016년       25 non-null int64\n",
      "2017년       25 non-null int64\n",
      "2018년       25 non-null int64\n",
      "dtypes: float64(3), int64(6), object(1)\n",
      "memory usage: 2.1+ KB\n"
     ]
    }
   ],
   "source": [
    "cctv_seoul.info()"
   ]
  },
  {
   "cell_type": "code",
   "execution_count": 254,
   "metadata": {},
   "outputs": [
    {
     "data": {
      "text/html": [
       "<div>\n",
       "<style scoped>\n",
       "    .dataframe tbody tr th:only-of-type {\n",
       "        vertical-align: middle;\n",
       "    }\n",
       "\n",
       "    .dataframe tbody tr th {\n",
       "        vertical-align: top;\n",
       "    }\n",
       "\n",
       "    .dataframe thead th {\n",
       "        text-align: right;\n",
       "    }\n",
       "</style>\n",
       "<table border=\"1\" class=\"dataframe\">\n",
       "  <thead>\n",
       "    <tr style=\"text-align: right;\">\n",
       "      <th></th>\n",
       "      <th>구별</th>\n",
       "      <th>소계</th>\n",
       "      <th>2011년 이전</th>\n",
       "      <th>2012년</th>\n",
       "      <th>2013년</th>\n",
       "      <th>2014년</th>\n",
       "      <th>2015년</th>\n",
       "      <th>2016년</th>\n",
       "      <th>2017년</th>\n",
       "      <th>2018년</th>\n",
       "    </tr>\n",
       "  </thead>\n",
       "  <tbody>\n",
       "    <tr>\n",
       "      <th>0</th>\n",
       "      <td>강남구</td>\n",
       "      <td>5221</td>\n",
       "      <td>1944.0</td>\n",
       "      <td>195.0</td>\n",
       "      <td>316.0</td>\n",
       "      <td>430</td>\n",
       "      <td>546</td>\n",
       "      <td>765</td>\n",
       "      <td>577</td>\n",
       "      <td>448</td>\n",
       "    </tr>\n",
       "    <tr>\n",
       "      <th>4</th>\n",
       "      <td>관악구</td>\n",
       "      <td>3985</td>\n",
       "      <td>430.0</td>\n",
       "      <td>56.0</td>\n",
       "      <td>419.0</td>\n",
       "      <td>487</td>\n",
       "      <td>609</td>\n",
       "      <td>619</td>\n",
       "      <td>694</td>\n",
       "      <td>671</td>\n",
       "    </tr>\n",
       "    <tr>\n",
       "      <th>6</th>\n",
       "      <td>구로구</td>\n",
       "      <td>3227</td>\n",
       "      <td>852.0</td>\n",
       "      <td>219.0</td>\n",
       "      <td>349.0</td>\n",
       "      <td>187</td>\n",
       "      <td>268</td>\n",
       "      <td>326</td>\n",
       "      <td>540</td>\n",
       "      <td>486</td>\n",
       "    </tr>\n",
       "    <tr>\n",
       "      <th>16</th>\n",
       "      <td>성북구</td>\n",
       "      <td>3003</td>\n",
       "      <td>779.0</td>\n",
       "      <td>84.0</td>\n",
       "      <td>304.0</td>\n",
       "      <td>241</td>\n",
       "      <td>279</td>\n",
       "      <td>388</td>\n",
       "      <td>285</td>\n",
       "      <td>643</td>\n",
       "    </tr>\n",
       "    <tr>\n",
       "      <th>21</th>\n",
       "      <td>은평구</td>\n",
       "      <td>2962</td>\n",
       "      <td>1365.0</td>\n",
       "      <td>83.0</td>\n",
       "      <td>99.0</td>\n",
       "      <td>343</td>\n",
       "      <td>180</td>\n",
       "      <td>296</td>\n",
       "      <td>229</td>\n",
       "      <td>367</td>\n",
       "    </tr>\n",
       "  </tbody>\n",
       "</table>\n",
       "</div>"
      ],
      "text/plain": [
       "     구별    소계  2011년 이전  2012년  2013년  2014년  2015년  2016년  2017년  2018년\n",
       "0   강남구  5221    1944.0  195.0  316.0    430    546    765    577    448\n",
       "4   관악구  3985     430.0   56.0  419.0    487    609    619    694    671\n",
       "6   구로구  3227     852.0  219.0  349.0    187    268    326    540    486\n",
       "16  성북구  3003     779.0   84.0  304.0    241    279    388    285    643\n",
       "21  은평구  2962    1365.0   83.0   99.0    343    180    296    229    367"
      ]
     },
     "execution_count": 254,
     "metadata": {},
     "output_type": "execute_result"
    }
   ],
   "source": [
    "cctv_seoul.sort_values(by=\"소계\", ascending=False).head(5)"
   ]
  },
  {
   "cell_type": "code",
   "execution_count": 265,
   "metadata": {},
   "outputs": [
    {
     "data": {
      "text/html": [
       "<div>\n",
       "<style scoped>\n",
       "    .dataframe tbody tr th:only-of-type {\n",
       "        vertical-align: middle;\n",
       "    }\n",
       "\n",
       "    .dataframe tbody tr th {\n",
       "        vertical-align: top;\n",
       "    }\n",
       "\n",
       "    .dataframe thead th {\n",
       "        text-align: right;\n",
       "    }\n",
       "</style>\n",
       "<table border=\"1\" class=\"dataframe\">\n",
       "  <thead>\n",
       "    <tr style=\"text-align: right;\">\n",
       "      <th></th>\n",
       "      <th>구별</th>\n",
       "      <th>소계</th>\n",
       "      <th>2011년 이전</th>\n",
       "      <th>2012년</th>\n",
       "      <th>2013년</th>\n",
       "      <th>2014년</th>\n",
       "      <th>2015년</th>\n",
       "      <th>2016년</th>\n",
       "      <th>2017년</th>\n",
       "      <th>2018년</th>\n",
       "      <th>최근증가율</th>\n",
       "    </tr>\n",
       "  </thead>\n",
       "  <tbody>\n",
       "    <tr>\n",
       "      <th>0</th>\n",
       "      <td>강남구</td>\n",
       "      <td>5221</td>\n",
       "      <td>1944.0</td>\n",
       "      <td>195.0</td>\n",
       "      <td>316.0</td>\n",
       "      <td>430</td>\n",
       "      <td>546</td>\n",
       "      <td>765</td>\n",
       "      <td>577</td>\n",
       "      <td>448</td>\n",
       "      <td>68.085106</td>\n",
       "    </tr>\n",
       "    <tr>\n",
       "      <th>1</th>\n",
       "      <td>강동구</td>\n",
       "      <td>1879</td>\n",
       "      <td>303.0</td>\n",
       "      <td>387.0</td>\n",
       "      <td>134.0</td>\n",
       "      <td>59</td>\n",
       "      <td>144</td>\n",
       "      <td>194</td>\n",
       "      <td>273</td>\n",
       "      <td>385</td>\n",
       "      <td>96.981500</td>\n",
       "    </tr>\n",
       "    <tr>\n",
       "      <th>2</th>\n",
       "      <td>강북구</td>\n",
       "      <td>1265</td>\n",
       "      <td>243.0</td>\n",
       "      <td>88.0</td>\n",
       "      <td>141.0</td>\n",
       "      <td>74</td>\n",
       "      <td>145</td>\n",
       "      <td>254</td>\n",
       "      <td>1</td>\n",
       "      <td>319</td>\n",
       "      <td>104.052098</td>\n",
       "    </tr>\n",
       "    <tr>\n",
       "      <th>3</th>\n",
       "      <td>강서구</td>\n",
       "      <td>1617</td>\n",
       "      <td>219.0</td>\n",
       "      <td>155.0</td>\n",
       "      <td>118.0</td>\n",
       "      <td>230</td>\n",
       "      <td>187</td>\n",
       "      <td>190</td>\n",
       "      <td>264</td>\n",
       "      <td>254</td>\n",
       "      <td>98.459846</td>\n",
       "    </tr>\n",
       "    <tr>\n",
       "      <th>4</th>\n",
       "      <td>관악구</td>\n",
       "      <td>3985</td>\n",
       "      <td>430.0</td>\n",
       "      <td>56.0</td>\n",
       "      <td>419.0</td>\n",
       "      <td>487</td>\n",
       "      <td>609</td>\n",
       "      <td>619</td>\n",
       "      <td>694</td>\n",
       "      <td>671</td>\n",
       "      <td>129.585207</td>\n",
       "    </tr>\n",
       "  </tbody>\n",
       "</table>\n",
       "</div>"
      ],
      "text/plain": [
       "    구별    소계  2011년 이전  2012년  2013년  2014년  2015년  2016년  2017년  2018년  \\\n",
       "0  강남구  5221    1944.0  195.0  316.0    430    546    765    577    448   \n",
       "1  강동구  1879     303.0  387.0  134.0     59    144    194    273    385   \n",
       "2  강북구  1265     243.0   88.0  141.0     74    145    254      1    319   \n",
       "3  강서구  1617     219.0  155.0  118.0    230    187    190    264    254   \n",
       "4  관악구  3985     430.0   56.0  419.0    487    609    619    694    671   \n",
       "\n",
       "        최근증가율  \n",
       "0   68.085106  \n",
       "1   96.981500  \n",
       "2  104.052098  \n",
       "3   98.459846  \n",
       "4  129.585207  "
      ]
     },
     "execution_count": 265,
     "metadata": {},
     "output_type": "execute_result"
    }
   ],
   "source": [
    "cctv_seoul['최근증가율'] = cctv_seoul.loc[:, \"2015년\": \"2018년\"].sum(axis=1)/ \\\n",
    "cctv_seoul.loc[:, \"2011년 이전\" : \"2014년\"].sum(axis=1) * 100\n",
    "\n",
    "cctv_seoul.head()"
   ]
  },
  {
   "cell_type": "code",
   "execution_count": 271,
   "metadata": {},
   "outputs": [
    {
     "data": {
      "text/html": [
       "<div>\n",
       "<style scoped>\n",
       "    .dataframe tbody tr th:only-of-type {\n",
       "        vertical-align: middle;\n",
       "    }\n",
       "\n",
       "    .dataframe tbody tr th {\n",
       "        vertical-align: top;\n",
       "    }\n",
       "\n",
       "    .dataframe thead th {\n",
       "        text-align: right;\n",
       "    }\n",
       "</style>\n",
       "<table border=\"1\" class=\"dataframe\">\n",
       "  <thead>\n",
       "    <tr style=\"text-align: right;\">\n",
       "      <th></th>\n",
       "      <th>구별</th>\n",
       "      <th>인구수</th>\n",
       "      <th>한국인</th>\n",
       "      <th>외국인</th>\n",
       "      <th>고령자</th>\n",
       "    </tr>\n",
       "  </thead>\n",
       "  <tbody>\n",
       "    <tr>\n",
       "      <th>1</th>\n",
       "      <td>종로구</td>\n",
       "      <td>162860</td>\n",
       "      <td>151767</td>\n",
       "      <td>11093</td>\n",
       "      <td>27394</td>\n",
       "    </tr>\n",
       "    <tr>\n",
       "      <th>2</th>\n",
       "      <td>중구</td>\n",
       "      <td>136663</td>\n",
       "      <td>126409</td>\n",
       "      <td>10254</td>\n",
       "      <td>23025</td>\n",
       "    </tr>\n",
       "    <tr>\n",
       "      <th>3</th>\n",
       "      <td>용산구</td>\n",
       "      <td>244989</td>\n",
       "      <td>228830</td>\n",
       "      <td>16159</td>\n",
       "      <td>38531</td>\n",
       "    </tr>\n",
       "    <tr>\n",
       "      <th>4</th>\n",
       "      <td>성동구</td>\n",
       "      <td>311290</td>\n",
       "      <td>303158</td>\n",
       "      <td>8132</td>\n",
       "      <td>43662</td>\n",
       "    </tr>\n",
       "    <tr>\n",
       "      <th>5</th>\n",
       "      <td>광진구</td>\n",
       "      <td>368337</td>\n",
       "      <td>352692</td>\n",
       "      <td>15645</td>\n",
       "      <td>47347</td>\n",
       "    </tr>\n",
       "  </tbody>\n",
       "</table>\n",
       "</div>"
      ],
      "text/plain": [
       "    구별     인구수     한국인    외국인    고령자\n",
       "1  종로구  162860  151767  11093  27394\n",
       "2   중구  136663  126409  10254  23025\n",
       "3  용산구  244989  228830  16159  38531\n",
       "4  성동구  311290  303158   8132  43662\n",
       "5  광진구  368337  352692  15645  47347"
      ]
     },
     "execution_count": 271,
     "metadata": {},
     "output_type": "execute_result"
    }
   ],
   "source": [
    "pop_seoul = pop_seoul.drop([0])\n",
    "pop_seoul.head()"
   ]
  },
  {
   "cell_type": "code",
   "execution_count": 283,
   "metadata": {},
   "outputs": [],
   "source": [
    "pop_seoul['외국인비율'] = pop_seoul['외국인'] / pop_seoul['인구수'] * 100\n",
    "pop_seoul['고령자비율'] = pop_seoul['고령자'] / pop_seoul['인구수'] * 100"
   ]
  },
  {
   "cell_type": "code",
   "execution_count": 290,
   "metadata": {},
   "outputs": [],
   "source": [
    "cctv_seoul.fillna(0, inplace=True)"
   ]
  },
  {
   "cell_type": "code",
   "execution_count": 297,
   "metadata": {
    "scrolled": true
   },
   "outputs": [],
   "source": [
    "data_result = cctv_seoul.merge(pop_seoul, on=\"구별\")"
   ]
  },
  {
   "cell_type": "code",
   "execution_count": 302,
   "metadata": {},
   "outputs": [],
   "source": [
    "data_result.set_index(\"구별\", inplace=True)"
   ]
  },
  {
   "cell_type": "code",
   "execution_count": 304,
   "metadata": {},
   "outputs": [
    {
     "data": {
      "text/html": [
       "<div>\n",
       "<style scoped>\n",
       "    .dataframe tbody tr th:only-of-type {\n",
       "        vertical-align: middle;\n",
       "    }\n",
       "\n",
       "    .dataframe tbody tr th {\n",
       "        vertical-align: top;\n",
       "    }\n",
       "\n",
       "    .dataframe thead th {\n",
       "        text-align: right;\n",
       "    }\n",
       "</style>\n",
       "<table border=\"1\" class=\"dataframe\">\n",
       "  <thead>\n",
       "    <tr style=\"text-align: right;\">\n",
       "      <th></th>\n",
       "      <th>소계</th>\n",
       "      <th>2011년 이전</th>\n",
       "      <th>2012년</th>\n",
       "      <th>2013년</th>\n",
       "      <th>2014년</th>\n",
       "      <th>2015년</th>\n",
       "      <th>2016년</th>\n",
       "      <th>2017년</th>\n",
       "      <th>2018년</th>\n",
       "      <th>최근증가율</th>\n",
       "      <th>인구수</th>\n",
       "      <th>한국인</th>\n",
       "      <th>외국인</th>\n",
       "      <th>고령자</th>\n",
       "      <th>외국인비율</th>\n",
       "      <th>고령자비율</th>\n",
       "    </tr>\n",
       "  </thead>\n",
       "  <tbody>\n",
       "    <tr>\n",
       "      <th>count</th>\n",
       "      <td>25.000000</td>\n",
       "      <td>25.000000</td>\n",
       "      <td>25.000000</td>\n",
       "      <td>25.000000</td>\n",
       "      <td>25.000000</td>\n",
       "      <td>25.000000</td>\n",
       "      <td>25.000000</td>\n",
       "      <td>25.000000</td>\n",
       "      <td>25.000000</td>\n",
       "      <td>25.000000</td>\n",
       "      <td>25.000000</td>\n",
       "      <td>25.000000</td>\n",
       "      <td>25.000000</td>\n",
       "      <td>25.000000</td>\n",
       "      <td>25.000000</td>\n",
       "      <td>25.000000</td>\n",
       "    </tr>\n",
       "    <tr>\n",
       "      <th>mean</th>\n",
       "      <td>2219.720000</td>\n",
       "      <td>534.040000</td>\n",
       "      <td>113.920000</td>\n",
       "      <td>178.680000</td>\n",
       "      <td>249.920000</td>\n",
       "      <td>226.880000</td>\n",
       "      <td>267.360000</td>\n",
       "      <td>299.440000</td>\n",
       "      <td>349.480000</td>\n",
       "      <td>94.661939</td>\n",
       "      <td>401037.080000</td>\n",
       "      <td>389615.920000</td>\n",
       "      <td>11421.160000</td>\n",
       "      <td>58725.840000</td>\n",
       "      <td>3.347607</td>\n",
       "      <td>14.924472</td>\n",
       "    </tr>\n",
       "    <tr>\n",
       "      <th>std</th>\n",
       "      <td>967.646523</td>\n",
       "      <td>494.321798</td>\n",
       "      <td>85.577411</td>\n",
       "      <td>140.485385</td>\n",
       "      <td>285.271935</td>\n",
       "      <td>144.643908</td>\n",
       "      <td>160.365956</td>\n",
       "      <td>216.219618</td>\n",
       "      <td>218.601067</td>\n",
       "      <td>40.578968</td>\n",
       "      <td>128038.832784</td>\n",
       "      <td>129798.481698</td>\n",
       "      <td>8432.515366</td>\n",
       "      <td>16360.578539</td>\n",
       "      <td>2.656443</td>\n",
       "      <td>1.604396</td>\n",
       "    </tr>\n",
       "    <tr>\n",
       "      <th>min</th>\n",
       "      <td>858.000000</td>\n",
       "      <td>0.000000</td>\n",
       "      <td>0.000000</td>\n",
       "      <td>0.000000</td>\n",
       "      <td>21.000000</td>\n",
       "      <td>59.000000</td>\n",
       "      <td>21.000000</td>\n",
       "      <td>1.000000</td>\n",
       "      <td>9.000000</td>\n",
       "      <td>17.599131</td>\n",
       "      <td>136663.000000</td>\n",
       "      <td>126409.000000</td>\n",
       "      <td>2314.000000</td>\n",
       "      <td>23025.000000</td>\n",
       "      <td>0.685439</td>\n",
       "      <td>12.575949</td>\n",
       "    </tr>\n",
       "    <tr>\n",
       "      <th>25%</th>\n",
       "      <td>1586.000000</td>\n",
       "      <td>197.000000</td>\n",
       "      <td>66.000000</td>\n",
       "      <td>88.000000</td>\n",
       "      <td>87.000000</td>\n",
       "      <td>130.000000</td>\n",
       "      <td>155.000000</td>\n",
       "      <td>136.000000</td>\n",
       "      <td>195.000000</td>\n",
       "      <td>76.378539</td>\n",
       "      <td>324089.000000</td>\n",
       "      <td>314090.000000</td>\n",
       "      <td>4547.000000</td>\n",
       "      <td>51708.000000</td>\n",
       "      <td>0.999484</td>\n",
       "      <td>13.817306</td>\n",
       "    </tr>\n",
       "    <tr>\n",
       "      <th>50%</th>\n",
       "      <td>1935.000000</td>\n",
       "      <td>470.000000</td>\n",
       "      <td>99.000000</td>\n",
       "      <td>141.000000</td>\n",
       "      <td>134.000000</td>\n",
       "      <td>180.000000</td>\n",
       "      <td>254.000000</td>\n",
       "      <td>273.000000</td>\n",
       "      <td>328.000000</td>\n",
       "      <td>92.346425</td>\n",
       "      <td>403776.000000</td>\n",
       "      <td>397618.000000</td>\n",
       "      <td>10254.000000</td>\n",
       "      <td>59808.000000</td>\n",
       "      <td>2.757898</td>\n",
       "      <td>14.766852</td>\n",
       "    </tr>\n",
       "    <tr>\n",
       "      <th>75%</th>\n",
       "      <td>2775.000000</td>\n",
       "      <td>772.000000</td>\n",
       "      <td>155.000000</td>\n",
       "      <td>228.000000</td>\n",
       "      <td>241.000000</td>\n",
       "      <td>268.000000</td>\n",
       "      <td>326.000000</td>\n",
       "      <td>372.000000</td>\n",
       "      <td>448.000000</td>\n",
       "      <td>109.316155</td>\n",
       "      <td>463931.000000</td>\n",
       "      <td>459849.000000</td>\n",
       "      <td>15645.000000</td>\n",
       "      <td>70029.000000</td>\n",
       "      <td>4.735842</td>\n",
       "      <td>15.961573</td>\n",
       "    </tr>\n",
       "    <tr>\n",
       "      <th>max</th>\n",
       "      <td>5221.000000</td>\n",
       "      <td>1944.000000</td>\n",
       "      <td>387.000000</td>\n",
       "      <td>599.000000</td>\n",
       "      <td>1326.000000</td>\n",
       "      <td>609.000000</td>\n",
       "      <td>765.000000</td>\n",
       "      <td>933.000000</td>\n",
       "      <td>830.000000</td>\n",
       "      <td>184.419714</td>\n",
       "      <td>684338.000000</td>\n",
       "      <td>677489.000000</td>\n",
       "      <td>34076.000000</td>\n",
       "      <td>86062.000000</td>\n",
       "      <td>8.466550</td>\n",
       "      <td>18.814943</td>\n",
       "    </tr>\n",
       "  </tbody>\n",
       "</table>\n",
       "</div>"
      ],
      "text/plain": [
       "                소계     2011년 이전       2012년       2013년        2014년  \\\n",
       "count    25.000000    25.000000   25.000000   25.000000    25.000000   \n",
       "mean   2219.720000   534.040000  113.920000  178.680000   249.920000   \n",
       "std     967.646523   494.321798   85.577411  140.485385   285.271935   \n",
       "min     858.000000     0.000000    0.000000    0.000000    21.000000   \n",
       "25%    1586.000000   197.000000   66.000000   88.000000    87.000000   \n",
       "50%    1935.000000   470.000000   99.000000  141.000000   134.000000   \n",
       "75%    2775.000000   772.000000  155.000000  228.000000   241.000000   \n",
       "max    5221.000000  1944.000000  387.000000  599.000000  1326.000000   \n",
       "\n",
       "            2015년       2016년       2017년       2018년       최근증가율  \\\n",
       "count   25.000000   25.000000   25.000000   25.000000   25.000000   \n",
       "mean   226.880000  267.360000  299.440000  349.480000   94.661939   \n",
       "std    144.643908  160.365956  216.219618  218.601067   40.578968   \n",
       "min     59.000000   21.000000    1.000000    9.000000   17.599131   \n",
       "25%    130.000000  155.000000  136.000000  195.000000   76.378539   \n",
       "50%    180.000000  254.000000  273.000000  328.000000   92.346425   \n",
       "75%    268.000000  326.000000  372.000000  448.000000  109.316155   \n",
       "max    609.000000  765.000000  933.000000  830.000000  184.419714   \n",
       "\n",
       "                 인구수            한국인           외국인           고령자      외국인비율  \\\n",
       "count      25.000000      25.000000     25.000000     25.000000  25.000000   \n",
       "mean   401037.080000  389615.920000  11421.160000  58725.840000   3.347607   \n",
       "std    128038.832784  129798.481698   8432.515366  16360.578539   2.656443   \n",
       "min    136663.000000  126409.000000   2314.000000  23025.000000   0.685439   \n",
       "25%    324089.000000  314090.000000   4547.000000  51708.000000   0.999484   \n",
       "50%    403776.000000  397618.000000  10254.000000  59808.000000   2.757898   \n",
       "75%    463931.000000  459849.000000  15645.000000  70029.000000   4.735842   \n",
       "max    684338.000000  677489.000000  34076.000000  86062.000000   8.466550   \n",
       "\n",
       "           고령자비율  \n",
       "count  25.000000  \n",
       "mean   14.924472  \n",
       "std     1.604396  \n",
       "min    12.575949  \n",
       "25%    13.817306  \n",
       "50%    14.766852  \n",
       "75%    15.961573  \n",
       "max    18.814943  "
      ]
     },
     "execution_count": 304,
     "metadata": {},
     "output_type": "execute_result"
    }
   ],
   "source": [
    "data_result.describe()"
   ]
  },
  {
   "cell_type": "code",
   "execution_count": null,
   "metadata": {},
   "outputs": [],
   "source": []
  },
  {
   "cell_type": "markdown",
   "metadata": {},
   "source": [
    "### matplotlib"
   ]
  },
  {
   "cell_type": "code",
   "execution_count": 307,
   "metadata": {},
   "outputs": [],
   "source": [
    "import matplotlib.pyplot as plt"
   ]
  },
  {
   "cell_type": "code",
   "execution_count": 308,
   "metadata": {},
   "outputs": [],
   "source": [
    "%matplotlib inline"
   ]
  },
  {
   "cell_type": "code",
   "execution_count": 314,
   "metadata": {},
   "outputs": [
    {
     "data": {
      "image/png": "[encoded data removed]",
      "text/plain": [
       "<Figure size 720x432 with 1 Axes>"
      ]
     },
     "metadata": {
      "needs_background": "light"
     },
     "output_type": "display_data"
    }
   ],
   "source": [
    "plt.figure(figsize= (10, 6))\n",
    "\n",
    "plt.plot([1, 2, 3], [2,4,6])\n",
    "plt.show()"
   ]
  },
  {
   "cell_type": "code",
   "execution_count": 316,
   "metadata": {},
   "outputs": [
    {
     "data": {
      "image/png": "[encoded data removed]",
      "text/plain": [
       "<Figure size 720x432 with 1 Axes>"
      ]
     },
     "metadata": {
      "needs_background": "light"
     },
     "output_type": "display_data"
    }
   ],
   "source": [
    "x = np.arange(-10, 10, .1)\n",
    "y = x**2 + 3\n",
    "\n",
    "plt.figure(figsize= (10,6))\n",
    "plt.plot(x, y)\n",
    "plt.show()"
   ]
  },
  {
   "cell_type": "code",
   "execution_count": 335,
   "metadata": {},
   "outputs": [
    {
     "data": {
      "image/png": "[encoded data removed]",
      "text/plain": [
       "<Figure size 576x360 with 1 Axes>"
      ]
     },
     "metadata": {
      "needs_background": "light"
     },
     "output_type": "display_data"
    }
   ],
   "source": [
    "x = np.arange(-10, 10, 1)\n",
    "y = x**2 + 3\n",
    "\n",
    "y2 = 2*x + 2\n",
    "\n",
    "plt.figure(figsize= (8,5))\n",
    "plt.grid()\n",
    "\n",
    "plt.plot(x, y, label=\"f(x)=x^2 +3\", color=\"#54321A\", lw=5)\n",
    "plt.plot(x, y2, label=\"f(x)=2*x + 2\", color = \"green\", ls=\"dashed\", marker=\">\")\n",
    "\n",
    "plt.legend()\n",
    "\n",
    "plt.title(\"sample plot\")\n",
    "\n",
    "plt.xlabel(\"axis x\")\n",
    "plt.ylabel('axis y')\n",
    "plt.show()"
   ]
  },
  {
   "cell_type": "code",
   "execution_count": 348,
   "metadata": {},
   "outputs": [
    {
     "data": {
      "image/png": "[encoded data removed]",
      "text/plain": [
       "<Figure size 576x360 with 2 Axes>"
      ]
     },
     "metadata": {
      "needs_background": "light"
     },
     "output_type": "display_data"
    }
   ],
   "source": [
    "plt.figure(figsize= (8, 5))\n",
    "x = np.random.randint(1,20, size=(10,))\n",
    "y = np.random.randint(1, 20, size=(10,))\n",
    "\n",
    "plt.scatter(x,y, marker='^', c=x/y)\n",
    "plt.colorbar()\n",
    "\n",
    "plt.show()"
   ]
  },
  {
   "cell_type": "code",
   "execution_count": null,
   "metadata": {},
   "outputs": [],
   "source": []
  },
  {
   "cell_type": "code",
   "execution_count": 349,
   "metadata": {},
   "outputs": [
    {
     "data": {
      "image/png": "[encoded data removed]",
      "text/plain": [
       "<Figure size 432x288 with 1 Axes>"
      ]
     },
     "metadata": {
      "needs_background": "light"
     },
     "output_type": "display_data"
    }
   ],
   "source": [
    "s1 = np.random.normal(loc=0, scale=1, size=1000)\n",
    "s2 = np.random.normal(loc=5, scale=0.5, size=1000)\n",
    "s3 = np.random.normal(loc=10, scale=2, size=1000)\n",
    "\n",
    "plt.plot(s1, label='s1')\n",
    "plt.plot(s2, label='s2')\n",
    "plt.plot(s3, label='s3')\n",
    "\n",
    "plt.show()"
   ]
  },
  {
   "cell_type": "code",
   "execution_count": 351,
   "metadata": {},
   "outputs": [
    {
     "data": {
      "image/png": "[encoded data removed]",
      "text/plain": [
       "<Figure size 432x288 with 1 Axes>"
      ]
     },
     "metadata": {
      "needs_background": "light"
     },
     "output_type": "display_data"
    }
   ],
   "source": [
    "plt.boxplot((s1, s2, s3))\n",
    "plt.show()"
   ]
  },
  {
   "cell_type": "code",
   "execution_count": 352,
   "metadata": {},
   "outputs": [
    {
     "data": {
      "text/html": [
       "<div>\n",
       "<style scoped>\n",
       "    .dataframe tbody tr th:only-of-type {\n",
       "        vertical-align: middle;\n",
       "    }\n",
       "\n",
       "    .dataframe tbody tr th {\n",
       "        vertical-align: top;\n",
       "    }\n",
       "\n",
       "    .dataframe thead th {\n",
       "        text-align: right;\n",
       "    }\n",
       "</style>\n",
       "<table border=\"1\" class=\"dataframe\">\n",
       "  <thead>\n",
       "    <tr style=\"text-align: right;\">\n",
       "      <th></th>\n",
       "      <th>소계</th>\n",
       "      <th>2011년 이전</th>\n",
       "      <th>2012년</th>\n",
       "      <th>2013년</th>\n",
       "      <th>2014년</th>\n",
       "      <th>2015년</th>\n",
       "      <th>2016년</th>\n",
       "      <th>2017년</th>\n",
       "      <th>2018년</th>\n",
       "      <th>최근증가율</th>\n",
       "      <th>인구수</th>\n",
       "      <th>한국인</th>\n",
       "      <th>외국인</th>\n",
       "      <th>고령자</th>\n",
       "      <th>외국인비율</th>\n",
       "      <th>고령자비율</th>\n",
       "    </tr>\n",
       "  </thead>\n",
       "  <tbody>\n",
       "    <tr>\n",
       "      <th>count</th>\n",
       "      <td>25.000000</td>\n",
       "      <td>25.000000</td>\n",
       "      <td>25.000000</td>\n",
       "      <td>25.000000</td>\n",
       "      <td>25.000000</td>\n",
       "      <td>25.000000</td>\n",
       "      <td>25.000000</td>\n",
       "      <td>25.000000</td>\n",
       "      <td>25.000000</td>\n",
       "      <td>25.000000</td>\n",
       "      <td>25.000000</td>\n",
       "      <td>25.000000</td>\n",
       "      <td>25.000000</td>\n",
       "      <td>25.000000</td>\n",
       "      <td>25.000000</td>\n",
       "      <td>25.000000</td>\n",
       "    </tr>\n",
       "    <tr>\n",
       "      <th>mean</th>\n",
       "      <td>2219.720000</td>\n",
       "      <td>534.040000</td>\n",
       "      <td>113.920000</td>\n",
       "      <td>178.680000</td>\n",
       "      <td>249.920000</td>\n",
       "      <td>226.880000</td>\n",
       "      <td>267.360000</td>\n",
       "      <td>299.440000</td>\n",
       "      <td>349.480000</td>\n",
       "      <td>94.661939</td>\n",
       "      <td>401037.080000</td>\n",
       "      <td>389615.920000</td>\n",
       "      <td>11421.160000</td>\n",
       "      <td>58725.840000</td>\n",
       "      <td>3.347607</td>\n",
       "      <td>14.924472</td>\n",
       "    </tr>\n",
       "    <tr>\n",
       "      <th>std</th>\n",
       "      <td>967.646523</td>\n",
       "      <td>494.321798</td>\n",
       "      <td>85.577411</td>\n",
       "      <td>140.485385</td>\n",
       "      <td>285.271935</td>\n",
       "      <td>144.643908</td>\n",
       "      <td>160.365956</td>\n",
       "      <td>216.219618</td>\n",
       "      <td>218.601067</td>\n",
       "      <td>40.578968</td>\n",
       "      <td>128038.832784</td>\n",
       "      <td>129798.481698</td>\n",
       "      <td>8432.515366</td>\n",
       "      <td>16360.578539</td>\n",
       "      <td>2.656443</td>\n",
       "      <td>1.604396</td>\n",
       "    </tr>\n",
       "    <tr>\n",
       "      <th>min</th>\n",
       "      <td>858.000000</td>\n",
       "      <td>0.000000</td>\n",
       "      <td>0.000000</td>\n",
       "      <td>0.000000</td>\n",
       "      <td>21.000000</td>\n",
       "      <td>59.000000</td>\n",
       "      <td>21.000000</td>\n",
       "      <td>1.000000</td>\n",
       "      <td>9.000000</td>\n",
       "      <td>17.599131</td>\n",
       "      <td>136663.000000</td>\n",
       "      <td>126409.000000</td>\n",
       "      <td>2314.000000</td>\n",
       "      <td>23025.000000</td>\n",
       "      <td>0.685439</td>\n",
       "      <td>12.575949</td>\n",
       "    </tr>\n",
       "    <tr>\n",
       "      <th>25%</th>\n",
       "      <td>1586.000000</td>\n",
       "      <td>197.000000</td>\n",
       "      <td>66.000000</td>\n",
       "      <td>88.000000</td>\n",
       "      <td>87.000000</td>\n",
       "      <td>130.000000</td>\n",
       "      <td>155.000000</td>\n",
       "      <td>136.000000</td>\n",
       "      <td>195.000000</td>\n",
       "      <td>76.378539</td>\n",
       "      <td>324089.000000</td>\n",
       "      <td>314090.000000</td>\n",
       "      <td>4547.000000</td>\n",
       "      <td>51708.000000</td>\n",
       "      <td>0.999484</td>\n",
       "      <td>13.817306</td>\n",
       "    </tr>\n",
       "    <tr>\n",
       "      <th>50%</th>\n",
       "      <td>1935.000000</td>\n",
       "      <td>470.000000</td>\n",
       "      <td>99.000000</td>\n",
       "      <td>141.000000</td>\n",
       "      <td>134.000000</td>\n",
       "      <td>180.000000</td>\n",
       "      <td>254.000000</td>\n",
       "      <td>273.000000</td>\n",
       "      <td>328.000000</td>\n",
       "      <td>92.346425</td>\n",
       "      <td>403776.000000</td>\n",
       "      <td>397618.000000</td>\n",
       "      <td>10254.000000</td>\n",
       "      <td>59808.000000</td>\n",
       "      <td>2.757898</td>\n",
       "      <td>14.766852</td>\n",
       "    </tr>\n",
       "    <tr>\n",
       "      <th>75%</th>\n",
       "      <td>2775.000000</td>\n",
       "      <td>772.000000</td>\n",
       "      <td>155.000000</td>\n",
       "      <td>228.000000</td>\n",
       "      <td>241.000000</td>\n",
       "      <td>268.000000</td>\n",
       "      <td>326.000000</td>\n",
       "      <td>372.000000</td>\n",
       "      <td>448.000000</td>\n",
       "      <td>109.316155</td>\n",
       "      <td>463931.000000</td>\n",
       "      <td>459849.000000</td>\n",
       "      <td>15645.000000</td>\n",
       "      <td>70029.000000</td>\n",
       "      <td>4.735842</td>\n",
       "      <td>15.961573</td>\n",
       "    </tr>\n",
       "    <tr>\n",
       "      <th>max</th>\n",
       "      <td>5221.000000</td>\n",
       "      <td>1944.000000</td>\n",
       "      <td>387.000000</td>\n",
       "      <td>599.000000</td>\n",
       "      <td>1326.000000</td>\n",
       "      <td>609.000000</td>\n",
       "      <td>765.000000</td>\n",
       "      <td>933.000000</td>\n",
       "      <td>830.000000</td>\n",
       "      <td>184.419714</td>\n",
       "      <td>684338.000000</td>\n",
       "      <td>677489.000000</td>\n",
       "      <td>34076.000000</td>\n",
       "      <td>86062.000000</td>\n",
       "      <td>8.466550</td>\n",
       "      <td>18.814943</td>\n",
       "    </tr>\n",
       "  </tbody>\n",
       "</table>\n",
       "</div>"
      ],
      "text/plain": [
       "                소계     2011년 이전       2012년       2013년        2014년  \\\n",
       "count    25.000000    25.000000   25.000000   25.000000    25.000000   \n",
       "mean   2219.720000   534.040000  113.920000  178.680000   249.920000   \n",
       "std     967.646523   494.321798   85.577411  140.485385   285.271935   \n",
       "min     858.000000     0.000000    0.000000    0.000000    21.000000   \n",
       "25%    1586.000000   197.000000   66.000000   88.000000    87.000000   \n",
       "50%    1935.000000   470.000000   99.000000  141.000000   134.000000   \n",
       "75%    2775.000000   772.000000  155.000000  228.000000   241.000000   \n",
       "max    5221.000000  1944.000000  387.000000  599.000000  1326.000000   \n",
       "\n",
       "            2015년       2016년       2017년       2018년       최근증가율  \\\n",
       "count   25.000000   25.000000   25.000000   25.000000   25.000000   \n",
       "mean   226.880000  267.360000  299.440000  349.480000   94.661939   \n",
       "std    144.643908  160.365956  216.219618  218.601067   40.578968   \n",
       "min     59.000000   21.000000    1.000000    9.000000   17.599131   \n",
       "25%    130.000000  155.000000  136.000000  195.000000   76.378539   \n",
       "50%    180.000000  254.000000  273.000000  328.000000   92.346425   \n",
       "75%    268.000000  326.000000  372.000000  448.000000  109.316155   \n",
       "max    609.000000  765.000000  933.000000  830.000000  184.419714   \n",
       "\n",
       "                 인구수            한국인           외국인           고령자      외국인비율  \\\n",
       "count      25.000000      25.000000     25.000000     25.000000  25.000000   \n",
       "mean   401037.080000  389615.920000  11421.160000  58725.840000   3.347607   \n",
       "std    128038.832784  129798.481698   8432.515366  16360.578539   2.656443   \n",
       "min    136663.000000  126409.000000   2314.000000  23025.000000   0.685439   \n",
       "25%    324089.000000  314090.000000   4547.000000  51708.000000   0.999484   \n",
       "50%    403776.000000  397618.000000  10254.000000  59808.000000   2.757898   \n",
       "75%    463931.000000  459849.000000  15645.000000  70029.000000   4.735842   \n",
       "max    684338.000000  677489.000000  34076.000000  86062.000000   8.466550   \n",
       "\n",
       "           고령자비율  \n",
       "count  25.000000  \n",
       "mean   14.924472  \n",
       "std     1.604396  \n",
       "min    12.575949  \n",
       "25%    13.817306  \n",
       "50%    14.766852  \n",
       "75%    15.961573  \n",
       "max    18.814943  "
      ]
     },
     "execution_count": 352,
     "metadata": {},
     "output_type": "execute_result"
    }
   ],
   "source": [
    "data_result.describe()"
   ]
  },
  {
   "cell_type": "code",
   "execution_count": null,
   "metadata": {},
   "outputs": [],
   "source": []
  },
  {
   "cell_type": "code",
   "execution_count": 353,
   "metadata": {},
   "outputs": [
    {
     "data": {
      "text/plain": [
       "<BarContainer object of 10 artists>"
      ]
     },
     "execution_count": 353,
     "metadata": {},
     "output_type": "execute_result"
    },
    {
     "data": {
      "image/png": "[encoded data removed]",
      "text/plain": [
       "<Figure size 432x288 with 1 Axes>"
      ]
     },
     "metadata": {
      "needs_background": "light"
     },
     "output_type": "display_data"
    }
   ],
   "source": [
    "plt.bar(x, y)"
   ]
  },
  {
   "cell_type": "code",
   "execution_count": 354,
   "metadata": {},
   "outputs": [
    {
     "data": {
      "text/plain": [
       "<BarContainer object of 10 artists>"
      ]
     },
     "execution_count": 354,
     "metadata": {},
     "output_type": "execute_result"
    },
    {
     "data": {
      "image/png": "[encoded data removed]",
      "text/plain": [
       "<Figure size 432x288 with 1 Axes>"
      ]
     },
     "metadata": {
      "needs_background": "light"
     },
     "output_type": "display_data"
    }
   ],
   "source": [
    "plt.barh(x, y)"
   ]
  },
  {
   "cell_type": "code",
   "execution_count": 356,
   "metadata": {},
   "outputs": [],
   "source": [
    "import platform\n",
    "\n",
    "from matplotlib import font_manager, rc\n",
    "plt.rcParams['axes.unicode_minus'] = False\n",
    "\n",
    "if platform.system() == 'Darwin':\n",
    "    rc('font', family = 'AppleGothic')\n",
    "elif platform.system() == 'Windows':\n",
    "    path = \"C:/Windows/Fonts/malgun.ttf\"\n",
    "    font_name = font_manager.FontProperties(fname=path).get_name()\n",
    "    rc('font', family=font_name)\n",
    "else:\n",
    "    print(\"OS not used\")"
   ]
  },
  {
   "cell_type": "code",
   "execution_count": null,
   "metadata": {},
   "outputs": [],
   "source": []
  },
  {
   "cell_type": "code",
   "execution_count": 363,
   "metadata": {},
   "outputs": [
    {
     "data": {
      "image/png": "[encoded data removed]",
      "text/plain": [
       "<Figure size 720x432 with 1 Axes>"
      ]
     },
     "metadata": {
      "needs_background": "light"
     },
     "output_type": "display_data"
    }
   ],
   "source": [
    "plt.figure(figsize=(10, 6))\n",
    "plt.plot(x, y, label = 'n-d')\n",
    "plt.title(\"폰트 테스트\")\n",
    "plt.legend()\n",
    "plt.show()"
   ]
  },
  {
   "cell_type": "code",
   "execution_count": 361,
   "metadata": {},
   "outputs": [
    {
     "data": {
      "text/plain": [
       "<matplotlib.axes._subplots.AxesSubplot at 0x19b93d74308>"
      ]
     },
     "execution_count": 361,
     "metadata": {},
     "output_type": "execute_result"
    },
    {
     "data": {
      "image/png": "[encoded data removed]",
      "text/plain": [
       "<Figure size 432x288 with 1 Axes>"
      ]
     },
     "metadata": {
      "needs_background": "light"
     },
     "output_type": "display_data"
    }
   ],
   "source": [
    "data_result['한국인'].plot()"
   ]
  },
  {
   "cell_type": "code",
   "execution_count": 368,
   "metadata": {},
   "outputs": [
    {
     "data": {
      "text/plain": [
       "array([ 5,  5,  5,  6,  7,  8,  9, 14, 14, 17])"
      ]
     },
     "execution_count": 368,
     "metadata": {},
     "output_type": "execute_result"
    }
   ],
   "source": [
    "x.sort()\n",
    "x"
   ]
  },
  {
   "cell_type": "code",
   "execution_count": 369,
   "metadata": {},
   "outputs": [
    {
     "data": {
      "text/plain": [
       "[<matplotlib.lines.Line2D at 0x19b93a45048>]"
      ]
     },
     "execution_count": 369,
     "metadata": {},
     "output_type": "execute_result"
    },
    {
     "data": {
      "image/png": "[encoded data removed]",
      "text/plain": [
       "<Figure size 432x288 with 4 Axes>"
      ]
     },
     "metadata": {
      "needs_background": "light"
     },
     "output_type": "display_data"
    }
   ],
   "source": [
    "plt.subplot(2,2,1)\n",
    "plt.plot(x, y)\n",
    "plt.subplot(2,2,2)\n",
    "plt.plot(x, 2*y)\n",
    "plt.subplot(2,2,3)\n",
    "plt.plot(x, 2*x)\n",
    "plt.subplot(2,2,4)\n",
    "plt.plot(x, x**2)\n"
   ]
  },
  {
   "cell_type": "code",
   "execution_count": null,
   "metadata": {},
   "outputs": [],
   "source": []
  },
  {
   "cell_type": "code",
   "execution_count": null,
   "metadata": {},
   "outputs": [],
   "source": []
  },
  {
   "cell_type": "code",
   "execution_count": null,
   "metadata": {},
   "outputs": [],
   "source": []
  },
  {
   "cell_type": "markdown",
   "metadata": {},
   "source": [
    "## 1-8. CCTV 현황그래프 분석 "
   ]
  },
  {
   "cell_type": "code",
   "execution_count": null,
   "metadata": {},
   "outputs": [],
   "source": []
  }
 ],
 "metadata": {
  "kernelspec": {
   "display_name": "Python 3",
   "language": "python",
   "name": "python3"
  },
  "language_info": {
   "codemirror_mode": {
    "name": "ipython",
    "version": 3
   },
   "file_extension": ".py",
   "mimetype": "text/x-python",
   "name": "python",
   "nbconvert_exporter": "python",
   "pygments_lexer": "ipython3",
   "version": "3.7.6"
  }
 },
 "nbformat": 4,
 "nbformat_minor": 2
}
