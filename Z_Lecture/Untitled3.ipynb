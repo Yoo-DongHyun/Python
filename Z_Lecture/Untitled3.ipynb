{
 "cells": [
  {
   "cell_type": "code",
   "execution_count": 1,
   "metadata": {},
   "outputs": [
    {
     "ename": "NameError",
     "evalue": "name '_crime_anal_police' is not defined",
     "output_type": "error",
     "traceback": [
      "\u001b[1;31m---------------------------------------------------------------------------\u001b[0m",
      "\u001b[1;31mNameError\u001b[0m                                 Traceback (most recent call last)",
      "\u001b[1;32m<ipython-input-1-87aae784b3c4>\u001b[0m in \u001b[0;36m<module>\u001b[1;34m\u001b[0m\n\u001b[1;32m----> 1\u001b[1;33m \u001b[0mcrime_name\u001b[0m \u001b[1;33m=\u001b[0m\u001b[0m_crime_anal_police\u001b[0m\u001b[1;33m[\u001b[0m\u001b[1;34m'죄종'\u001b[0m\u001b[1;33m]\u001b[0m\u001b[1;33m.\u001b[0m\u001b[0munique\u001b[0m\u001b[1;33m(\u001b[0m\u001b[1;33m)\u001b[0m\u001b[1;33m\u001b[0m\u001b[1;33m\u001b[0m\u001b[0m\n\u001b[0m\u001b[0;32m      2\u001b[0m \u001b[0mcrime_name\u001b[0m\u001b[1;33m\u001b[0m\u001b[1;33m\u001b[0m\u001b[0m\n",
      "\u001b[1;31mNameError\u001b[0m: name '_crime_anal_police' is not defined"
     ]
    }
   ],
   "source": [
    "crime_name =_crime_anal_police['죄종'].unique()\n",
    "crime_name"
   ]
  },
  {
   "cell_type": "code",
   "execution_count": null,
   "metadata": {},
   "outputs": [],
   "source": []
  },
  {
   "cell_type": "code",
   "execution_count": null,
   "metadata": {},
   "outputs": [],
   "source": [
    "crime_name =_crime_anal_police['죄종'].unique()\n",
    "crime_name"
   ]
  },
  {
   "cell_type": "code",
   "execution_count": 2,
   "metadata": {},
   "outputs": [
    {
     "ename": "NameError",
     "evalue": "name '_crime_anal_police' is not defined",
     "output_type": "error",
     "traceback": [
      "\u001b[1;31m---------------------------------------------------------------------------\u001b[0m",
      "\u001b[1;31mNameError\u001b[0m                                 Traceback (most recent call last)",
      "\u001b[1;32m<ipython-input-2-c7c81c4d5051>\u001b[0m in \u001b[0;36m<module>\u001b[1;34m\u001b[0m\n\u001b[1;32m----> 1\u001b[1;33m \u001b[0mcrime_class\u001b[0m \u001b[1;33m=\u001b[0m \u001b[0m_crime_anal_police\u001b[0m\u001b[1;33m[\u001b[0m\u001b[1;34m'발생검거'\u001b[0m\u001b[1;33m]\u001b[0m\u001b[1;33m.\u001b[0m\u001b[0munique\u001b[0m\u001b[1;33m(\u001b[0m\u001b[1;33m)\u001b[0m\u001b[1;33m\u001b[0m\u001b[1;33m\u001b[0m\u001b[0m\n\u001b[0m\u001b[0;32m      2\u001b[0m \u001b[0mcrime_class\u001b[0m\u001b[1;33m\u001b[0m\u001b[1;33m\u001b[0m\u001b[0m\n",
      "\u001b[1;31mNameError\u001b[0m: name '_crime_anal_police' is not defined"
     ]
    }
   ],
   "source": [
    "crime_class = _crime_anal_police['발생검거'].unique()\n",
    "crime_class"
   ]
  },
  {
   "cell_type": "code",
   "execution_count": 4,
   "metadata": {},
   "outputs": [],
   "source": [
    "result_list = []\n",
    "\n",
    "for p in police_station:\n",
    "    temp_dict={\n",
    "        '구분' : p\n",
    "    }\n",
    "    \n",
    "    for n in crime_name:\n",
    "        for c in crime_class:\n",
    "            key = n+c\n",
    "            con1 = _crime_anal_police['구분'] == p\n",
    "            con2 = _crime_anal_police['죄종'] == n\n",
    "            con3 = _crime_anal_police['발생검거'] ==c\n",
    "\n",
    "            value = _crime_anal_police[con1 & con2 & con3]['건수'].values[0]\n",
    "            print()\n",
    "            print(value)\n",
    "            temp_dict[key] =value\n",
    "    result_list.append(temp_dict)\n",
    "result_list"
   ]
  },
  {
   "cell_type": "code",
   "execution_count": null,
   "metadata": {},
   "outputs": [],
   "source": [
    "crime_anal_police = pd.DataFrame(result_list)\n",
    "crime_anal_police"
   ]
  }
 ],
 "metadata": {
  "kernelspec": {
   "display_name": "Python 3",
   "language": "python",
   "name": "python3"
  },
  "language_info": {
   "codemirror_mode": {
    "name": "ipython",
    "version": 3
   },
   "file_extension": ".py",
   "mimetype": "text/x-python",
   "name": "python",
   "nbconvert_exporter": "python",
   "pygments_lexer": "ipython3",
   "version": "3.7.4"
  }
 },
 "nbformat": 4,
 "nbformat_minor": 2
}
