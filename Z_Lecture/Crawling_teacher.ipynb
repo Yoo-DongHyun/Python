{
 "cells": [
  {
   "cell_type": "code",
   "execution_count": null,
   "metadata": {},
   "outputs": [],
   "source": [
    "\n",
    "url = 'https://search.naver.com/search.naver'\n",
    "params = {\n",
    "    'where' : 'news',\n",
    "    'query': '오늘+날씨'\n",
    "}\n",
    "\n",
    "resp = requests.get(url, params=params)\n",
    "\n",
    "soup = BeautifulSoup(resp.content)\n",
    "ul_tag = soup.find('ul', class_='type01')\n",
    "news_li_tag= ul_tag.find_all('li', recursive=False)\n",
    "\n",
    "my_news_list=[]\n",
    "for each_news in news_li_tag:\n",
    "    a_tag = each_news.find('a', class_='_sp_each_title')\n",
    "    title = a_tag.text\n",
    "    linnk = a_tag.get('href')\n",
    "    desc = each_news.find_all('dd')[1].text\n",
    "    \n",
    "    my_news_list.append({\n",
    "        'title' : title,\n",
    "        'link' : link,\n",
    "        'desc' : desc\n",
    "    })\n",
    "\n",
    "for idx, my_news in enumerate(my_news_list):\n",
    "    resp = requests.get(my_news.get('link'))\n",
    "    soup = BeautifulSoup(resp.content)\n",
    "    \n",
    "    my_news_list[idx]['content'] = soup.find('body')\n",
    "    "
   ]
  }
 ],
 "metadata": {
  "kernelspec": {
   "display_name": "Python 3",
   "language": "python",
   "name": "python3"
  },
  "language_info": {
   "codemirror_mode": {
    "name": "ipython",
    "version": 3
   },
   "file_extension": ".py",
   "mimetype": "text/x-python",
   "name": "python",
   "nbconvert_exporter": "python",
   "pygments_lexer": "ipython3",
   "version": "3.7.4"
  }
 },
 "nbformat": 4,
 "nbformat_minor": 2
}
